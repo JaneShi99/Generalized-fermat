{
 "cells": [
  {
   "cell_type": "code",
   "execution_count": 1,
   "id": "ade618cd",
   "metadata": {},
   "outputs": [],
   "source": [
    "import itertools\n",
    "import time\n",
    "from collections import defaultdict\n",
    "from math import comb\n",
    "\n",
    "import numpy as np\n",
    "import sympy"
   ]
  },
  {
   "cell_type": "markdown",
   "id": "63223672",
   "metadata": {
    "jp-MarkdownHeadingCollapsed": true
   },
   "source": [
    "# Step 1 of Edwards' Algorithm"
   ]
  },
  {
   "cell_type": "markdown",
   "id": "7d42c95e",
   "metadata": {},
   "source": [
    "The following computes the bound"
   ]
  },
  {
   "cell_type": "code",
   "execution_count": 2,
   "id": "aefc93ea-47f5-4a13-a536-03b37838d910",
   "metadata": {},
   "outputs": [],
   "source": [
    "def compute_B(r, d):\n",
    "    B = 0\n",
    "    if r == 3:\n",
    "        B = 2 * sqrt(3) * abs(d) ^ (1 / 3)\n",
    "    elif r == 4:\n",
    "        B = 16 * sqrt(abs(d))\n",
    "    elif r == 5:\n",
    "        B = 3578 * abs(d)\n",
    "    else:\n",
    "        raise Exception(\"r needs to be in [3,4,5]\")\n",
    "    return floor(B)\n",
    "\n",
    "#Assume $a_0$ is nonzero. The following computes $a_3$ given $a_0, a_1, a_2$, and $X$.\n",
    "\n",
    "def compute_a3(v_a0, v_a1, v_a2, X):\n",
    "    a0, a1, a2, a3, x = var(\"a0, a1, a2, a3, x\")\n",
    "    x = X\n",
    "    a0 = v_a0\n",
    "    a1 = v_a1\n",
    "    a2 = v_a2\n",
    "    result_a3 = sympy.solve(\n",
    "        [\n",
    "            a0 ^ 2 * a3 - 3 * a0 * a1 * a2 + 2 * a1 ^ 3 == 2 * x,\n",
    "            x == X,\n",
    "            a0 == v_a0,\n",
    "            a1 == v_a1,\n",
    "            a2 == v_a2,\n",
    "        ],\n",
    "        a3,\n",
    "        solution_dict=True,\n",
    "    )\n",
    "    v_a3 = list(result_a3.values())[0]\n",
    "\n",
    "    return v_a3\n",
    "\n",
    "#Assume $a_0$ is zero. The following computes $a_3$ given $a_1, a_2$, and $X$.\n",
    "\n",
    "def compute_a3_when_a0_is_0(v_a1, v_a2):\n",
    "    return 3 * v_a2 ^ 2 / (4 * v_a1)\n",
    "\n",
    "#Given $a_0,a_1,a_3,d$, the following code computes the rest of the coefficients of the Klein form\n",
    "\n",
    "def tetrahedral_solution_getter(result):\n",
    "    v_a4 = result.get(sympy.var(\"a4\"))\n",
    "    return v_a4\n",
    "\n",
    "\n",
    "def octahedral_solution_getter(result):\n",
    "    v_a4 = result[0].get(sympy.var(\"a4\"))\n",
    "    v_a5 = result[0].get(sympy.var(\"a5\"))\n",
    "    v_a6 = result[0].get(sympy.var(\"a6\"))\n",
    "    return [v_a4, v_a5, v_a6]\n",
    "\n",
    "\n",
    "def tetrahedral_compute_coefficients(v_a0, v_a1, v_a2, v_a3, v_d):\n",
    "    \"\"\"\n",
    "    WARNING: in Edwards' PhD Thesis, the defining equations in appendix A\n",
    "    has the value of d negated!!!!!\n",
    "    \"\"\"\n",
    "\n",
    "    a0, a1, a2, a3, a4, d = var(\"a0, a1, a2, a3, a4, d\")\n",
    "    a0 = v_a0\n",
    "    a1 = v_a1\n",
    "    a2 = v_a2\n",
    "    a3 = v_a3\n",
    "    d = v_d\n",
    "    eq1 = a0 * a4 - 4 * a1 * a3 + 3 * a2 ^ 2 == 0\n",
    "    eq2 = (\n",
    "        a0 * a2 * a4 + 2 * a1 * a2 * a3 - a2 ^ 3 - a0 * a3 ^ 2 - a1 ^ 2 * a4 - 4 * d\n",
    "        == 0\n",
    "    )\n",
    "\n",
    "    sympy_result = sympy.solve(\n",
    "        [eq1, eq2, d == v_d, a0 == v_a0, a1 == v_a1, a2 == v_a2, a3 == v_a3], a4\n",
    "    )  # solution_dict=True?\n",
    "    return tetrahedral_solution_getter(sympy_result)\n",
    "\n",
    "\n",
    "def octahedral_compute_coefficients(v_a0, v_a1, v_a2, v_a3, v_d):\n",
    "    \"\"\"\n",
    "    WARNING: in Edwards' PhD Thesis, the defining equations in appendix A\n",
    "    has the value of d negated!!!!!\n",
    "    \"\"\"\n",
    "\n",
    "    a0, a1, a2, a3, a4, a5, a6, d = var(\"a0, a1, a2, a3, a4, a5, a6, d\")\n",
    "    a0 = v_a0\n",
    "    a1 = v_a1\n",
    "    a2 = v_a2\n",
    "    a3 = v_a3\n",
    "    d = v_d\n",
    "\n",
    "    eq1 = 0 == a0 * a4 - 4 * a1 * a3 + 3 * a2 ^ 2\n",
    "    eq2 = 0 == a0 * a5 - 3 * a1 * a4 + 2 * a2 * a3\n",
    "    eq3 = 0 == a0 * a6 - 9 * a2 * a4 + 8 * a3 ^ 2\n",
    "    eq4 = 0 == a1 * a6 - 3 * a2 * a5 + 2 * a3 * a4\n",
    "    eq5 = 0 == a2 * a6 - 4 * a3 * a5 + 3 * a4 ^ 2\n",
    "    eq6 = 0 == -72 * d + a0 * a6 - 6 * a1 * a5 + 15 * a2 * a4 - 10 * a3 ^ 2\n",
    "\n",
    "    sympy_result = sympy.solve(\n",
    "        [\n",
    "            eq1,\n",
    "            eq2,\n",
    "            eq3,\n",
    "            eq4,\n",
    "            eq5,\n",
    "            eq6,\n",
    "            d == v_d,\n",
    "            a0 == v_a0,\n",
    "            a1 == v_a1,\n",
    "            a2 == v_a2,\n",
    "            a3 == v_a3,\n",
    "        ],\n",
    "        a4,\n",
    "        a5,\n",
    "        a6,\n",
    "        dict=True,\n",
    "    )\n",
    "\n",
    "    return octahedral_solution_getter(sympy_result)\n",
    "\n",
    "#The following code computes whether the coefficients satisfy the bounds \n",
    "\n",
    "def bound_correct(coeff, B):\n",
    "    k = len(coeff) - 1\n",
    "    B_squared = B * B\n",
    "    for i in range(k + 1):\n",
    "        for j in range(k + 1):\n",
    "            if i + j <= k:\n",
    "                if abs(coeff[i] * coeff[j]) > B_squared:\n",
    "                    return False\n",
    "    return True"
   ]
  },
  {
   "cell_type": "code",
   "execution_count": 3,
   "id": "a00d7add",
   "metadata": {},
   "outputs": [],
   "source": [
    "def Step_1_Klein_forms(r, d):\n",
    "    B = compute_B(r, d)\n",
    "    resulting_forms = []\n",
    "\n",
    "    for v_a0 in range(-B, B + 1):\n",
    "        for v_a1 in range(-B, B + 1):\n",
    "            for v_a2 in range(-B, B + 1):\n",
    "                Z = v_a0\n",
    "                Y = v_a0 * v_a2 - v_a1 ^ 2\n",
    "                x_abs = sqrt(-Y ^ 3 - d * (Z ^ r))\n",
    "\n",
    "                # Throw out the case when X is not in Z\n",
    "                if x_abs not in ZZ:\n",
    "                    continue\n",
    "\n",
    "                for X in [-x_abs, x_abs]:\n",
    "\n",
    "                    # a0, a1 cannot be simultaneously zero\n",
    "                    if v_a0 == 0 and v_a1 == 0:\n",
    "                        continue\n",
    "\n",
    "                    # compute a3. The method is different when a0 is 0 versus when it is nonzero\n",
    "                    v_a3 = (\n",
    "                        compute_a3_when_a0_is_0(v_a1, v_a2)\n",
    "                        if v_a0 == 0\n",
    "                        else compute_a3(v_a0, v_a1, v_a2, X)\n",
    "                    )\n",
    "\n",
    "                    # check if a3 is an integer\n",
    "                    if not v_a3.is_integer:\n",
    "                        continue\n",
    "                    if not float(v_a3) == floor(v_a3):\n",
    "                        continue\n",
    "\n",
    "                    v_a3 = int(v_a3)\n",
    "                    v_d = d\n",
    "\n",
    "                    # Tetrahedral case\n",
    "                    if r == 3:\n",
    "                        v_a4 = tetrahedral_compute_coefficients(\n",
    "                            v_a0, v_a1, v_a2, v_a3, v_d\n",
    "                        )\n",
    "                        # DO INTEGRAL CHECK HERE. Note that integral for r=5 is slightly different.\n",
    "                        # In the r=5 case, we need to check that 7*v_a6 is an integer\n",
    "\n",
    "                        if not v_a4.is_integer:\n",
    "                            continue\n",
    "\n",
    "                        # Check bounds in theorem 4.3.4. of Edwards\n",
    "                        coefficients = [v_a0, v_a1, v_a2, v_a3, v_a4]\n",
    "                        if not bound_correct(coefficients, B):\n",
    "                            continue\n",
    "\n",
    "                        resulting_forms.append(coefficients)\n",
    "\n",
    "                    # Octahedral case\n",
    "                    elif r == 4:\n",
    "                        coefficients = octahedral_compute_coefficients(\n",
    "                            v_a0, v_a1, v_a2, v_a3, v_d\n",
    "                        )\n",
    "\n",
    "                        # DO INTEGRAL CHECK HERE. Note that integral for a5 is slightly different. Need\n",
    "                        # to check that 7*v_a6 is an integer\n",
    "\n",
    "                        if not all(\n",
    "                            coefficient.is_integer for coefficient in coefficients\n",
    "                        ):\n",
    "                            continue\n",
    "\n",
    "                        # check bounds in theorem 4.3.4\n",
    "                        coefficients = [v_a0, v_a1, v_a2, v_a3] + coefficients\n",
    "                        if not bound_correct(coefficients, B):\n",
    "                            continue\n",
    "\n",
    "                        resulting_forms.append(coefficients)\n",
    "                    elif r == 5:\n",
    "                        raise NotImplemented\n",
    "                    else:\n",
    "                        raise Exception(\"r needs to be in [3,4,5]\")\n",
    "\n",
    "                    pass\n",
    "\n",
    "    return resulting_forms"
   ]
  },
  {
   "cell_type": "markdown",
   "id": "78f45fef",
   "metadata": {},
   "source": [
    "# Step 2.a of Edwards' Algorithm"
   ]
  },
  {
   "cell_type": "code",
   "execution_count": null,
   "id": "65a504f9",
   "metadata": {},
   "outputs": [],
   "source": []
  },
  {
   "cell_type": "markdown",
   "id": "f03d7a2d",
   "metadata": {},
   "source": [
    "The following code multiplies each coefficient by the corresponding binomial coefficients"
   ]
  },
  {
   "cell_type": "code",
   "execution_count": 4,
   "id": "0187bf81",
   "metadata": {},
   "outputs": [],
   "source": [
    "def return_poly_coeff_6_form(form):\n",
    "    return [comb(6, i) * j for i, j in enumerate(form)]"
   ]
  },
  {
   "cell_type": "code",
   "execution_count": null,
   "id": "745773f9",
   "metadata": {},
   "outputs": [],
   "source": []
  },
  {
   "cell_type": "code",
   "execution_count": 5,
   "id": "2ea77c2c",
   "metadata": {},
   "outputs": [],
   "source": [
    "def return_poly_coeff_4_form(form):\n",
    "    return [comb(4, i) * j for i, j in enumerate(form)]"
   ]
  },
  {
   "cell_type": "code",
   "execution_count": 6,
   "id": "e18007bb",
   "metadata": {},
   "outputs": [
    {
     "data": {
      "text/plain": [
       "[1, 8, 6, 0, -3]"
      ]
     },
     "execution_count": 6,
     "metadata": {},
     "output_type": "execute_result"
    }
   ],
   "source": [
    "return_poly_coeff_4_form([1, 2, 1, 0, -3])"
   ]
  },
  {
   "cell_type": "markdown",
   "id": "67d18f3f",
   "metadata": {},
   "source": [
    "Given a $6$ form, the following code check whether the the signature is $(4,1)$"
   ]
  },
  {
   "cell_type": "code",
   "execution_count": 7,
   "id": "b5cb6663",
   "metadata": {},
   "outputs": [],
   "source": [
    "def signature_4_1(form):\n",
    "    roots = np.roots(return_poly_coeff_6_form(form))\n",
    "    num_real_roots = sum(np.imag(root) == 0 for root in roots)\n",
    "    return (len(roots) - num_real_roots) == 2"
   ]
  },
  {
   "cell_type": "markdown",
   "id": "c7b3fb11",
   "metadata": {},
   "source": [
    "Given a $6$ form, the following code check whether the the signature is $(2,2)$"
   ]
  },
  {
   "cell_type": "code",
   "execution_count": 8,
   "id": "090816a1",
   "metadata": {},
   "outputs": [],
   "source": [
    "def signature_2_2(form):\n",
    "    roots = np.roots(return_poly_coeff_6_form(form))\n",
    "    num_real_roots = sum(np.imag(root) == 0 for root in roots)\n",
    "    return (len(roots) - num_real_roots) == 4"
   ]
  },
  {
   "cell_type": "markdown",
   "id": "bf2e257c",
   "metadata": {},
   "source": [
    "Given a 6 form of signature (4,1), it computes its representative point"
   ]
  },
  {
   "cell_type": "code",
   "execution_count": 9,
   "id": "d80fdcad",
   "metadata": {},
   "outputs": [],
   "source": [
    "def octahedral_4_1_rep_point(form):\n",
    "\n",
    "    roots = np.roots(return_poly_coeff_6_form(form))\n",
    "\n",
    "    rep_point = 0\n",
    "    for candidate in roots:\n",
    "        if np.imag(candidate) != 0:\n",
    "            rep_point = candidate\n",
    "            break\n",
    "    if np.imag(rep_point) < 0:\n",
    "        rep_point = np.conj(rep_point)\n",
    "\n",
    "    return rep_point"
   ]
  },
  {
   "cell_type": "code",
   "execution_count": null,
   "id": "47c7ea89",
   "metadata": {},
   "outputs": [],
   "source": []
  },
  {
   "cell_type": "code",
   "execution_count": null,
   "id": "2125c8f4",
   "metadata": {},
   "outputs": [],
   "source": []
  },
  {
   "cell_type": "markdown",
   "id": "3d8764c2",
   "metadata": {},
   "source": [
    "Given a 6 form of signature (2,2), the following computes its representative point"
   ]
  },
  {
   "cell_type": "code",
   "execution_count": 10,
   "id": "e70bcea2",
   "metadata": {},
   "outputs": [],
   "source": [
    "def compute_repn_point_4_form(roots, weights_square):\n",
    "    a0_rep = sum(weights_square)\n",
    "    a1_rep = sum(\n",
    "        weights_square[i] * (roots[i] + np.conj(roots[i])) * (-1) for i in range(4)\n",
    "    )\n",
    "    a2_rep = sum(weights_square[i] * (roots[i] * np.conj(roots[i])) for i in range(4))\n",
    "\n",
    "    roots = np.roots([a0_rep, a1_rep, a2_rep])\n",
    "\n",
    "    rep_point = roots[0]\n",
    "    if rep_point.imag < 0:\n",
    "        rep_point = np.conj(rep_point)\n",
    "\n",
    "    return rep_point\n",
    "\n",
    "\n",
    "def octahedral_2_2_rep_point(form):\n",
    "    roots = np.roots(return_poly_coeff_6_form(form))\n",
    "    beta1 = 0\n",
    "    beta2 = 0\n",
    "    for candidate in roots:\n",
    "        if np.imag(candidate) != 0:\n",
    "            beta1 = candidate\n",
    "            break\n",
    "    for candidate in roots:\n",
    "        imag = np.imag(candidate)\n",
    "        if imag != 0 and candidate != beta1 and imag != -np.imag(beta1):\n",
    "            beta2 = candidate\n",
    "            break\n",
    "\n",
    "    beta1_bar = np.conj(beta1)\n",
    "    beta2_bar = np.conj(beta2)\n",
    "    t1_squared = np.abs(beta2 - beta2_bar)\n",
    "    t2_squared = np.abs(beta1 - beta1_bar)\n",
    "\n",
    "    roots_test = [beta1, beta1_bar, beta2, beta2_bar]\n",
    "\n",
    "    weights_square_test = [t1_squared, t1_squared, t2_squared, t2_squared]\n",
    "    return compute_repn_point_4_form(roots_test, weights_square_test)"
   ]
  },
  {
   "cell_type": "markdown",
   "id": "25f6d084",
   "metadata": {},
   "source": [
    "Check whether the representative point is in the fundamental region"
   ]
  },
  {
   "cell_type": "code",
   "execution_count": 11,
   "id": "bc0412db",
   "metadata": {},
   "outputs": [],
   "source": [
    "def in_fund_reg(rep_point):\n",
    "    tol = 1e-08\n",
    "    return (-1 / 2 - tol <= np.real(rep_point) <= 1 / 2 + tol) and np.abs(\n",
    "        rep_point\n",
    "    ) >= 1 - tol"
   ]
  },
  {
   "cell_type": "markdown",
   "id": "a4b83d9e",
   "metadata": {},
   "source": [
    "Given a 4 form, the following checks whether its signature is (2,1)."
   ]
  },
  {
   "cell_type": "code",
   "execution_count": 12,
   "id": "ee018ab6",
   "metadata": {},
   "outputs": [],
   "source": [
    "def signature_2_1(form):\n",
    "    roots = np.roots(return_poly_coeff_4_form(form))\n",
    "    num_real_roots = sum(np.imag(root) == 0 for root in roots)\n",
    "    return (len(roots) - num_real_roots) == 2"
   ]
  },
  {
   "cell_type": "markdown",
   "id": "1b2dbfbb",
   "metadata": {},
   "source": [
    "Given a 4 form of signature (2,1), the following computes its representative point"
   ]
  },
  {
   "cell_type": "code",
   "execution_count": 13,
   "id": "2b6613fd",
   "metadata": {},
   "outputs": [],
   "source": [
    "def tetrahedral_2_1_rep_point(form):\n",
    "    roots = np.roots(return_poly_coeff_4_form(form))\n",
    "\n",
    "    num_real_roots = sum(np.imag(root) == 0 for root in roots)\n",
    "\n",
    "    assert num_real_roots == 2\n",
    "\n",
    "    real_roots = [root for root in roots if np.imag(root) == 0]\n",
    "    complex_roots = [root for root in roots if np.imag(root) != 0]\n",
    "\n",
    "    assert len(real_roots) == 2\n",
    "\n",
    "    alpha1, alpha2 = real_roots\n",
    "    beta, beta_bar = complex_roots\n",
    "\n",
    "    t1_squared = np.abs((beta - beta_bar) * (alpha2 - beta) ^ 2)\n",
    "    t2_squared = np.abs((beta - beta_bar) * (alpha1 - beta) ^ 2)\n",
    "    u_squared = np.abs((alpha1 - alpha2) * (alpha1 - beta) * (alpha2 - beta))\n",
    "\n",
    "    roots_test = [alpha1, alpha2, beta, beta_bar]\n",
    "\n",
    "    weights_square_test = [t1_squared, t2_squared, u_squared, u_squared]\n",
    "\n",
    "    return compute_repn_point_4_form(roots_test, weights_square_test)"
   ]
  },
  {
   "cell_type": "code",
   "execution_count": null,
   "id": "34f97641",
   "metadata": {},
   "outputs": [],
   "source": []
  },
  {
   "cell_type": "markdown",
   "id": "a0b2896f",
   "metadata": {},
   "source": [
    "The following computes transformation of a form by T, S, U of GL2(Z)"
   ]
  },
  {
   "cell_type": "code",
   "execution_count": 14,
   "id": "cdcf59dc",
   "metadata": {},
   "outputs": [],
   "source": [
    "def T_transformation(original_form):\n",
    "    new_form = [0] * len(original_form)\n",
    "    for index in range(len(original_form)):\n",
    "        new_form[index] = original_form[index]\n",
    "        new_form[index] += sum(comb(index, i) * original_form[i] for i in range(index))\n",
    "    return new_form"
   ]
  },
  {
   "cell_type": "code",
   "execution_count": 15,
   "id": "b4fdd432",
   "metadata": {},
   "outputs": [],
   "source": [
    "def U_transformation(original_form):\n",
    "    return [coeff * (-1) ** index for index, coeff in enumerate(original_form)]"
   ]
  },
  {
   "cell_type": "code",
   "execution_count": 16,
   "id": "a7a75f63",
   "metadata": {},
   "outputs": [],
   "source": [
    "def S_transformation(original_form):\n",
    "    return [coeff * (-1) ** index for index, coeff in enumerate(original_form[::-1])]"
   ]
  },
  {
   "cell_type": "code",
   "execution_count": 17,
   "id": "43754b65",
   "metadata": {},
   "outputs": [],
   "source": [
    "def US_transformation(original_form):\n",
    "    return original_form[::-1]"
   ]
  },
  {
   "cell_type": "code",
   "execution_count": 18,
   "id": "9adee779",
   "metadata": {},
   "outputs": [],
   "source": [
    "def ST_transformation(original_form):\n",
    "    return S_transformation(T_transformation(original_form))"
   ]
  },
  {
   "cell_type": "code",
   "execution_count": null,
   "id": "eec95344",
   "metadata": {},
   "outputs": [],
   "source": []
  },
  {
   "cell_type": "markdown",
   "id": "5ad7a405",
   "metadata": {},
   "source": [
    "Given a list of (form, representative_point) tuple, the following rounds the representative point to the nearest 8 decimap places. i.e. 0.4999999999999999 becomes 0.5"
   ]
  },
  {
   "cell_type": "code",
   "execution_count": 19,
   "id": "a4250fc8",
   "metadata": {},
   "outputs": [],
   "source": [
    "def clean_up(results):\n",
    "\n",
    "    deduped = list(\n",
    "        set(\n",
    "            (tuple(form), np.around(point, decimals=6, out=None))\n",
    "            for form, point in results\n",
    "        )\n",
    "    )\n",
    "    deduped.sort()\n",
    "    return deduped"
   ]
  },
  {
   "cell_type": "markdown",
   "id": "9bf7da0a",
   "metadata": {},
   "source": [
    "The following code returns a tuple. The first tuple is whether the representative point is in fundamental region. The second is the representative point."
   ]
  },
  {
   "cell_type": "code",
   "execution_count": 20,
   "id": "f4b6ae2b",
   "metadata": {},
   "outputs": [],
   "source": [
    "def repn_point_in_fund_region(r, coefficients):\n",
    "    if r == 3:\n",
    "        rep_point = 0\n",
    "        # determine the representative point when a0=0 (Tetrahedral case)\n",
    "        if coefficients[0] == 0:\n",
    "            modified_coefficients = coefficients[::1]\n",
    "            # transform by T until one of a0 and a5 is nonzero.\n",
    "\n",
    "            num_T_transformations = 0\n",
    "            while modified_coefficients[-1] == 0:\n",
    "                num_T_transformations += 1\n",
    "                modified_coefficients = T_transformation(modified_coefficients)\n",
    "            modified_coefficients = modified_coefficients[::-1]\n",
    "\n",
    "            # then reverse the coefficients and take reciprocal of the point\n",
    "            rep_point = 1 / (tetrahedral_2_1_rep_point(modified_coefficients))\n",
    "            rep_point = rep_point - num_T_transformations\n",
    "            if np.imag(rep_point) < 0:\n",
    "                rep_point = np.conj(rep_point)\n",
    "        else:\n",
    "            # check signature and compute repn points\n",
    "            roots = np.roots(return_poly_coeff_4_form(coefficients))\n",
    "\n",
    "            if signature_2_1(coefficients):\n",
    "                rep_point = tetrahedral_2_1_rep_point(coefficients)\n",
    "\n",
    "            else:  # Note that (4,0) and (0,2) have not been encountered. (0,2) is not Klein form\n",
    "                raise NotImplemented\n",
    "\n",
    "        # return false when the representative point is not in fundamental region\n",
    "        return (in_fund_reg(rep_point), rep_point)\n",
    "\n",
    "    elif r == 4:\n",
    "        # computing the rep point depending on the signature\n",
    "        rep_point = 0\n",
    "        if signature_4_1(coefficients):\n",
    "            rep_point = octahedral_4_1_rep_point(coefficients)\n",
    "\n",
    "        elif signature_2_2(coefficients):\n",
    "            rep_point = octahedral_2_2_rep_point(coefficients)\n",
    "\n",
    "        else:  # signature must be of 4,1 or 2,2.\n",
    "            # Signature of 3,0 cannot be a form in C(r,d)\n",
    "            raise NotImplemented\n",
    "        # return false when the representative point is not in fundamental region\n",
    "        return (in_fund_reg(rep_point), rep_point)\n",
    "\n",
    "    elif r == 5:  # r == 5\n",
    "        raise NotImplemented\n",
    "    else:\n",
    "        raise Exception(\"r needs to be in [3,4,5]\")"
   ]
  },
  {
   "cell_type": "code",
   "execution_count": null,
   "id": "f5dc6917",
   "metadata": {},
   "outputs": [],
   "source": []
  },
  {
   "cell_type": "code",
   "execution_count": null,
   "id": "e0571716",
   "metadata": {},
   "outputs": [],
   "source": []
  },
  {
   "cell_type": "code",
   "execution_count": null,
   "id": "7f853842",
   "metadata": {},
   "outputs": [],
   "source": []
  },
  {
   "cell_type": "markdown",
   "id": "929cfe73",
   "metadata": {},
   "source": [
    "The following code implements step 1 of Edwards' algorithm. It is the most computationally heavy step"
   ]
  },
  {
   "cell_type": "code",
   "execution_count": 21,
   "id": "54a34805",
   "metadata": {},
   "outputs": [],
   "source": [
    "def Step_2_Hermite_reduced_forms(r, forms):\n",
    "\n",
    "    resulting_forms = []\n",
    "    for coefficients in forms:\n",
    "        in_region, rep_point = repn_point_in_fund_region(r, coefficients)\n",
    "\n",
    "        if in_region:\n",
    "            resulting_forms.append((coefficients, rep_point))\n",
    "\n",
    "    return clean_up(resulting_forms)"
   ]
  },
  {
   "cell_type": "markdown",
   "id": "33b0721b",
   "metadata": {
    "jp-MarkdownHeadingCollapsed": true
   },
   "source": [
    "# Step 2.b of Edwards' Algorithm"
   ]
  },
  {
   "cell_type": "markdown",
   "id": "00931e4b",
   "metadata": {},
   "source": [
    "Following throws away forms whose representative point is not GL2(Z) reduced"
   ]
  },
  {
   "cell_type": "code",
   "execution_count": 22,
   "id": "c01e1991",
   "metadata": {},
   "outputs": [],
   "source": [
    "def keep_gl2z_reduced_forms(results):\n",
    "    return [(form, point) for form, point in results if np.real(point) <= 0]"
   ]
  },
  {
   "cell_type": "markdown",
   "id": "dcd1f36c",
   "metadata": {},
   "source": [
    "The given a list of forms, generates a list of forms that contains each form and the negatives of each form"
   ]
  },
  {
   "cell_type": "code",
   "execution_count": 23,
   "id": "544cef03",
   "metadata": {},
   "outputs": [],
   "source": [
    "def generate_minus_I(forms):\n",
    "    return forms + [[item * -1 for item in some_list] for some_list in forms]"
   ]
  },
  {
   "cell_type": "markdown",
   "id": "c4600fbf",
   "metadata": {},
   "source": [
    "The following code implements lemma 5.2.1. That is, given a form, this generates a list of all forms that is in its GL2Z orbit"
   ]
  },
  {
   "cell_type": "code",
   "execution_count": 24,
   "id": "2495ea2f",
   "metadata": {
    "scrolled": true
   },
   "outputs": [],
   "source": [
    "def gl2_equiv_forms(form, rep_point):\n",
    "\n",
    "    omega = -0.5 + 0.8660254j\n",
    "\n",
    "    forms_to_return = []\n",
    "\n",
    "    if np.isclose(omega, rep_point):\n",
    "\n",
    "        forms_to_return = [form]\n",
    "\n",
    "        Uform = U_transformation(form)\n",
    "\n",
    "        ST_orbit = []\n",
    "        for start_form in [form, Uform]:\n",
    "            ST_orbit.append(start_form)\n",
    "            ST_orbit.append(ST_transformation(start_form))\n",
    "            ST_orbit.append(ST_transformation(ST_transformation(start_form)))\n",
    "\n",
    "        ST_T_orbit = [US_transformation(orb) for orb in ST_orbit]\n",
    "\n",
    "        forms_consider_U = generate_minus_I(ST_orbit + ST_T_orbit)\n",
    "        forms_to_return = [\n",
    "            U_transformation(form) for form in forms_consider_U\n",
    "        ] + forms_consider_U\n",
    "\n",
    "        forms_to_return = list(set(tuple(form) for form in forms_to_return))\n",
    "\n",
    "    else:\n",
    "        if np.real(rep_point) == 0:\n",
    "            forms_to_return = generate_minus_I([form, U_transformation(form)])\n",
    "\n",
    "        elif np.isclose(np.abs(rep_point), 1):\n",
    "            forms_to_return = generate_minus_I([form, US_transformation(form)])\n",
    "\n",
    "        elif np.real(rep_point) == -1 / 2:\n",
    "            forms_to_return = generate_minus_I([form, U_transformation(form)])\n",
    "\n",
    "        else:\n",
    "            forms_to_return = generate_minus_I([form])\n",
    "\n",
    "    forms_to_return = list(set(tuple(form) for form in forms_to_return))\n",
    "    return forms_to_return"
   ]
  },
  {
   "cell_type": "code",
   "execution_count": null,
   "id": "ca845b75",
   "metadata": {},
   "outputs": [],
   "source": []
  },
  {
   "cell_type": "code",
   "execution_count": null,
   "id": "1588c33c",
   "metadata": {},
   "outputs": [],
   "source": []
  },
  {
   "cell_type": "markdown",
   "id": "d0a8137b",
   "metadata": {},
   "source": [
    "Given list of forms, this code groups the forms together if they have the same GL2(Z) orbit"
   ]
  },
  {
   "cell_type": "code",
   "execution_count": null,
   "id": "b00152f0",
   "metadata": {},
   "outputs": [],
   "source": []
  },
  {
   "cell_type": "code",
   "execution_count": 25,
   "id": "94adb110",
   "metadata": {},
   "outputs": [],
   "source": [
    "def put_into_gl2z_equivalence(results):\n",
    "\n",
    "    # The keys are forms, representing a set of gl_2(Z) equivalent forms\n",
    "    # the values are a list of form, rep_point pairs\n",
    "\n",
    "    lookup = set()\n",
    "    to_return = []\n",
    "\n",
    "    for form, rep_point in results:\n",
    "        gl2_equivalent = gl2_equiv_forms(list(form), rep_point)\n",
    "        # print(form)\n",
    "        # print(len(gl2_equivalent))\n",
    "        if not any(tuple(equiv_form) in lookup for equiv_form in gl2_equivalent):\n",
    "            lookup.add(tuple(form))\n",
    "            to_return.append((form, rep_point))\n",
    "\n",
    "    return to_return"
   ]
  },
  {
   "cell_type": "code",
   "execution_count": null,
   "id": "f0e77e49",
   "metadata": {},
   "outputs": [],
   "source": []
  },
  {
   "cell_type": "code",
   "execution_count": null,
   "id": "94602e39",
   "metadata": {},
   "outputs": [],
   "source": []
  },
  {
   "cell_type": "code",
   "execution_count": null,
   "id": "756c1a79",
   "metadata": {},
   "outputs": [],
   "source": []
  },
  {
   "cell_type": "code",
   "execution_count": 26,
   "id": "c9237b4a",
   "metadata": {},
   "outputs": [],
   "source": [
    "def Algorithm_step_3(results):\n",
    "    resulting_forms_and_points = []\n",
    "\n",
    "    return put_into_gl2z_equivalence(keep_gl2z_reduced_forms(results))"
   ]
  },
  {
   "cell_type": "markdown",
   "id": "ade330ee",
   "metadata": {
    "jp-MarkdownHeadingCollapsed": true
   },
   "source": [
    "# Step 2.c of Edwards' Algorithm"
   ]
  },
  {
   "cell_type": "markdown",
   "id": "3e5652f5-a626-4ea7-b4a4-411e7f39148f",
   "metadata": {},
   "source": []
  },
  {
   "cell_type": "markdown",
   "id": "5f27ea84",
   "metadata": {},
   "source": [
    "The following computes the Hessian of a form $f$, which is a covariant "
   ]
  },
  {
   "cell_type": "code",
   "execution_count": 27,
   "id": "8e19d442",
   "metadata": {},
   "outputs": [],
   "source": [
    "def H(f, k):\n",
    "    x, y = sympy.symbols(\"x,y\")\n",
    "    fx = sympy.diff(f, x)\n",
    "    fy = sympy.diff(f, y)\n",
    "    fxx = sympy.diff(fx, x)\n",
    "    fyy = sympy.diff(fy, y)\n",
    "    fxy = sympy.diff(fx, y)\n",
    "    fyx = sympy.diff(fy, x)\n",
    "\n",
    "    return (fxx * fyy - fxy * fyx) * 1 / ((k * (k - 1)) ^ 2)"
   ]
  },
  {
   "cell_type": "markdown",
   "id": "738fb8e3",
   "metadata": {},
   "source": [
    "The following computes the functional determinant of a form $f$, which is also a covariant "
   ]
  },
  {
   "cell_type": "code",
   "execution_count": 28,
   "id": "0cbb9e95",
   "metadata": {},
   "outputs": [],
   "source": [
    "def t(f, H, k):\n",
    "    x, y = sympy.symbols(\"x,y\")\n",
    "    fx = sympy.diff(f, x)\n",
    "    fy = sympy.diff(f, y)\n",
    "    Hx = sympy.diff(H, x)\n",
    "    Hy = sympy.diff(H, y)\n",
    "    return (fx * Hy - fy * Hx) / (k * (k - 2))"
   ]
  },
  {
   "cell_type": "markdown",
   "id": "523bccc6",
   "metadata": {},
   "source": [
    "The following code produces $(x,y,z)$ as an integer specialization of $\\mathscr{C}(r,d)$ by $s_1,s_2$"
   ]
  },
  {
   "cell_type": "code",
   "execution_count": 29,
   "id": "238e9c29",
   "metadata": {},
   "outputs": [],
   "source": [
    "def get_xyz_from_s1s2(t, H, f, s1, s2):\n",
    "    x, y = sympy.symbols(\"x,y\")\n",
    "    t_number = t.subs({x: s1, y: s2})\n",
    "    H_number = H.subs({x: s1, y: s2})\n",
    "    f_number = f.subs({x: s1, y: s2})\n",
    "\n",
    "    return (t_number / 2, H_number, f_number)"
   ]
  },
  {
   "cell_type": "markdown",
   "id": "2e71e32d",
   "metadata": {},
   "source": [
    "Determines $N_0$ from $N$ and $d$"
   ]
  },
  {
   "cell_type": "code",
   "execution_count": 30,
   "id": "46d67552",
   "metadata": {},
   "outputs": [],
   "source": [
    "def determine_N0(N, d):\n",
    "    Nd = N * d\n",
    "    N0 = 1\n",
    "    for p in primes(Nd):\n",
    "        if p != 2 and p.divides(Nd):\n",
    "            N0 *= p\n",
    "\n",
    "    return N0"
   ]
  },
  {
   "cell_type": "markdown",
   "id": "fedf6165",
   "metadata": {},
   "source": [
    "The following checks whether a form generates coprime solutions"
   ]
  },
  {
   "cell_type": "code",
   "execution_count": 31,
   "id": "eb7e7cfe",
   "metadata": {},
   "outputs": [],
   "source": [
    "def step_4_check_coprime(form, d):\n",
    "    x, y = sympy.symbols(\"x,y\")\n",
    "    k = len(form) - 1\n",
    "    f_v = sum(comb(k, i) * form[i] * x**i * y ** (k - i) for i in range(k + 1))\n",
    "    H_v = H(f_v, k)\n",
    "    t_v = t(f_v, H_v, k)\n",
    "    N = 0\n",
    "    if k == 4:\n",
    "        N = 12\n",
    "    elif k == 6:\n",
    "        N = 24\n",
    "    else:\n",
    "        raise NotImplemented\n",
    "\n",
    "    N0 = determine_N0(N, d)\n",
    "    for s1 in range(-N0, N0 + 1):\n",
    "        for s2 in range(-N0, N0 + 1):\n",
    "            x_v, y_v, z_v = get_xyz_from_s1s2(t_v, H_v, f_v, s1, s2)\n",
    "            if gcd(gcd(x_v, y_v), z_v) == 1:\n",
    "                return True\n",
    "    return False"
   ]
  },
  {
   "cell_type": "code",
   "execution_count": 32,
   "id": "9d12c5f9",
   "metadata": {},
   "outputs": [],
   "source": [
    "def step_4(forms, d):\n",
    "    results = []\n",
    "    for form, rep_point in forms:\n",
    "        if step_4_check_coprime(form, d):\n",
    "            results.append((form, rep_point))\n",
    "    return results"
   ]
  },
  {
   "cell_type": "markdown",
   "id": "d25ec053",
   "metadata": {},
   "source": [
    "# Running the whole algorithm"
   ]
  },
  {
   "cell_type": "code",
   "execution_count": 33,
   "id": "5a3837b3",
   "metadata": {},
   "outputs": [],
   "source": [
    "\n",
    "def whole_algo(r, d):\n",
    "    print('------------------------------------------')\n",
    "    print('r,d =', r,',',d)\n",
    "    str_ais = '(a_0,...,a_6) =' if r == 4 else '(a_0,...,a_4) ='\n",
    "\n",
    "    step_1_results = Step_1_Klein_forms(r, d)\n",
    "\n",
    "    \n",
    "    step_2_results = Step_2_Hermite_reduced_forms(r, step_1_results)\n",
    "    # print('step_1_2_combined_results:')\n",
    "    print()\n",
    "    print('Forms produced after step 1:')\n",
    "    print()\n",
    "    \n",
    "    for tup in step_2_results:\n",
    "        print(str_ais,tup[0])\n",
    "\n",
    "    # print('step_3_results:')\n",
    "    step_3_results = Algorithm_step_3(step_2_results)\n",
    "\n",
    "    \n",
    "    # print('step_4_results:')\n",
    "\n",
    "    print()\n",
    "    print('Forms kept after step 2:')\n",
    "    print()\n",
    "    \n",
    "    step_4_results = step_4(step_3_results, r)\n",
    "    for result in step_4_results:\n",
    "        print(str_ais,result[0])\n",
    "\n",
    "    return step_4_results"
   ]
  },
  {
   "cell_type": "markdown",
   "id": "d726a1cd",
   "metadata": {},
   "source": [
    "Below code runs the whole algorithm on several different parameters"
   ]
  },
  {
   "cell_type": "markdown",
   "id": "538af0ec-cf91-443c-b18e-27c6e505a00f",
   "metadata": {},
   "source": [
    "# Parmaters to run"
   ]
  },
  {
   "cell_type": "code",
   "execution_count": 34,
   "id": "3b739c2a",
   "metadata": {},
   "outputs": [],
   "source": [
    "parameters_to_run = [\n",
    "    [3, 4],\n",
    "    [4, -5],\n",
    "]"
   ]
  },
  {
   "cell_type": "markdown",
   "id": "f22601dc",
   "metadata": {},
   "source": [
    "# Following are the final results"
   ]
  },
  {
   "cell_type": "code",
   "execution_count": 35,
   "id": "7ae7bb52",
   "metadata": {},
   "outputs": [
    {
     "name": "stdout",
     "output_type": "stream",
     "text": [
      "------------------------------------------\n",
      "r,d = 3 , 4\n",
      "\n",
      "Forms produced after step 1:\n",
      "\n",
      "(a_0,...,a_4) = (-3, -1, -1, -3, -3)\n",
      "(a_0,...,a_4) = (-3, 0, -1, -2, 1)\n",
      "(a_0,...,a_4) = (-3, 0, -1, 2, 1)\n",
      "(a_0,...,a_4) = (-3, 1, -1, 3, -3)\n",
      "(a_0,...,a_4) = (-1, 0, 0, -4, 0)\n",
      "(a_0,...,a_4) = (-1, 0, 0, 4, 0)\n",
      "(a_0,...,a_4) = (0, -2, 0, 0, -4)\n",
      "(a_0,...,a_4) = (0, -1, 0, 0, -16)\n",
      "(a_0,...,a_4) = (0, 1, 0, 0, -16)\n",
      "(a_0,...,a_4) = (0, 2, 0, 0, -4)\n",
      "(a_0,...,a_4) = (1, -2, -1, 0, -3)\n",
      "(a_0,...,a_4) = (1, -1, -1, 1, -7)\n",
      "(a_0,...,a_4) = (1, 1, -1, -1, -7)\n",
      "(a_0,...,a_4) = (1, 2, -1, 0, -3)\n",
      "\n",
      "Forms kept after step 2:\n",
      "\n",
      "(a_0,...,a_4) = (-3, -1, -1, -3, -3)\n",
      "(a_0,...,a_4) = (-3, 0, -1, -2, 1)\n",
      "(a_0,...,a_4) = (-1, 0, 0, -4, 0)\n",
      "(a_0,...,a_4) = (0, -1, 0, 0, -16)\n",
      "(a_0,...,a_4) = (1, 1, -1, -1, -7)\n",
      "------------------------------------------\n",
      "r,d = 4 , -5\n",
      "\n",
      "Forms produced after step 1:\n",
      "\n",
      "(a_0,...,a_6) = (-16, -8, -8, -6, 0, 6, 18)\n",
      "(a_0,...,a_6) = (-16, 8, -8, 6, 0, -6, 18)\n",
      "(a_0,...,a_6) = (-12, -2, -4, 0, 4, 2, 12)\n",
      "(a_0,...,a_6) = (-12, 2, -4, 0, 4, -2, 12)\n",
      "(a_0,...,a_6) = (-8, -4, -4, 0, 6, 9, 27)\n",
      "(a_0,...,a_6) = (-8, -3, 4, -4, 0, -4, 16)\n",
      "(a_0,...,a_6) = (-8, 3, 4, 4, 0, 4, 16)\n",
      "(a_0,...,a_6) = (-8, 4, -4, 0, 6, -9, 27)\n",
      "(a_0,...,a_6) = (-2, -6, 4, -2, 0, -8, 16)\n",
      "(a_0,...,a_6) = (-2, -2, 0, -2, -8, -24, 16)\n",
      "(a_0,...,a_6) = (-2, -1, 0, -4, -8, -12, 64)\n",
      "(a_0,...,a_6) = (-2, 0, -2, -2, 6, 4, 70)\n",
      "(a_0,...,a_6) = (-2, 0, -2, 2, 6, -4, 70)\n",
      "(a_0,...,a_6) = (-2, 1, 0, 4, -8, 12, 64)\n",
      "(a_0,...,a_6) = (-2, 2, 0, 2, -8, 24, 16)\n",
      "(a_0,...,a_6) = (-2, 6, 4, 2, 0, 8, 16)\n",
      "(a_0,...,a_6) = (-1, 0, -1, -4, 3, 8, 155)\n",
      "(a_0,...,a_6) = (-1, 0, -1, 4, 3, -8, 155)\n",
      "(a_0,...,a_6) = (0, -8, -8, -6, -4, -10, -24)\n",
      "(a_0,...,a_6) = (0, -8, 8, -6, 4, -10, 24)\n",
      "(a_0,...,a_6) = (0, -6, 0, 0, 0, -10, 0)\n",
      "(a_0,...,a_6) = (0, -5, 0, 0, 0, -12, 0)\n",
      "(a_0,...,a_6) = (0, -4, 0, 0, 0, -15, 0)\n",
      "(a_0,...,a_6) = (0, -3, 0, 0, 0, -20, 0)\n",
      "(a_0,...,a_6) = (0, -2, 0, 0, 0, -30, 0)\n",
      "(a_0,...,a_6) = (0, -1, 0, 0, 0, -60, 0)\n",
      "(a_0,...,a_6) = (0, 1, 0, 0, 0, 60, 0)\n",
      "(a_0,...,a_6) = (0, 2, 0, 0, 0, 30, 0)\n",
      "(a_0,...,a_6) = (0, 3, 0, 0, 0, 20, 0)\n",
      "(a_0,...,a_6) = (0, 4, 0, 0, 0, 15, 0)\n",
      "(a_0,...,a_6) = (0, 5, 0, 0, 0, 12, 0)\n",
      "(a_0,...,a_6) = (0, 6, 0, 0, 0, 10, 0)\n",
      "(a_0,...,a_6) = (0, 8, -8, 6, -4, 10, -24)\n",
      "(a_0,...,a_6) = (0, 8, 8, 6, 4, 10, 24)\n",
      "(a_0,...,a_6) = (1, 0, 1, -4, -3, 8, -155)\n",
      "(a_0,...,a_6) = (1, 0, 1, 4, -3, -8, -155)\n",
      "(a_0,...,a_6) = (2, -6, -4, -2, 0, -8, -16)\n",
      "(a_0,...,a_6) = (2, -2, 0, -2, 8, -24, -16)\n",
      "(a_0,...,a_6) = (2, -1, 0, -4, 8, -12, -64)\n",
      "(a_0,...,a_6) = (2, 0, 2, -2, -6, 4, -70)\n",
      "(a_0,...,a_6) = (2, 0, 2, 2, -6, -4, -70)\n",
      "(a_0,...,a_6) = (2, 1, 0, 4, 8, 12, -64)\n",
      "(a_0,...,a_6) = (2, 2, 0, 2, 8, 24, -16)\n",
      "(a_0,...,a_6) = (2, 6, -4, 2, 0, 8, -16)\n",
      "(a_0,...,a_6) = (8, -4, 4, 0, -6, 9, -27)\n",
      "(a_0,...,a_6) = (8, -3, -4, -4, 0, -4, -16)\n",
      "(a_0,...,a_6) = (8, 3, -4, 4, 0, 4, -16)\n",
      "(a_0,...,a_6) = (8, 4, 4, 0, -6, -9, -27)\n",
      "(a_0,...,a_6) = (12, -2, 4, 0, -4, 2, -12)\n",
      "(a_0,...,a_6) = (12, 2, 4, 0, -4, -2, -12)\n",
      "(a_0,...,a_6) = (16, -8, 8, -6, 0, 6, -18)\n",
      "(a_0,...,a_6) = (16, 8, 8, 6, 0, -6, -18)\n",
      "\n",
      "Forms kept after step 2:\n",
      "\n",
      "(a_0,...,a_6) = (-8, -4, -4, 0, 6, 9, 27)\n",
      "(a_0,...,a_6) = (-8, 3, 4, 4, 0, 4, 16)\n",
      "(a_0,...,a_6) = (-2, -1, 0, -4, -8, -12, 64)\n",
      "(a_0,...,a_6) = (-1, 0, -1, -4, 3, 8, 155)\n",
      "(a_0,...,a_6) = (0, -5, 0, 0, 0, -12, 0)\n",
      "(a_0,...,a_6) = (0, -4, 0, 0, 0, -15, 0)\n",
      "(a_0,...,a_6) = (0, -3, 0, 0, 0, -20, 0)\n",
      "(a_0,...,a_6) = (0, -1, 0, 0, 0, -60, 0)\n",
      "\n",
      "Number of seconds 39.98630213737488\n",
      "Final answers:\n",
      "[3, 4, (-3, -1, -1, -3, -3)]\n",
      "[3, 4, (-3, 0, -1, -2, 1)]\n",
      "[3, 4, (-1, 0, 0, -4, 0)]\n",
      "[3, 4, (0, -1, 0, 0, -16)]\n",
      "[3, 4, (1, 1, -1, -1, -7)]\n",
      "[4, -5, (-8, -4, -4, 0, 6, 9, 27)]\n",
      "[4, -5, (-8, 3, 4, 4, 0, 4, 16)]\n",
      "[4, -5, (-2, -1, 0, -4, -8, -12, 64)]\n",
      "[4, -5, (-1, 0, -1, -4, 3, 8, 155)]\n",
      "[4, -5, (0, -5, 0, 0, 0, -12, 0)]\n",
      "[4, -5, (0, -4, 0, 0, 0, -15, 0)]\n",
      "[4, -5, (0, -3, 0, 0, 0, -20, 0)]\n",
      "[4, -5, (0, -1, 0, 0, 0, -60, 0)]\n"
     ]
    }
   ],
   "source": [
    "demo_param = []\n",
    "\n",
    "start = time.time()\n",
    "\n",
    "for r, d in parameters_to_run:\n",
    "\n",
    "    d_ph = Integer(d)\n",
    "    \n",
    "    result = whole_algo(r, d)\n",
    "    for ans_pair in result:\n",
    "        demo_param.append([r, d_ph, ans_pair[0]])\n",
    "\n",
    "end = time.time()\n",
    "print()\n",
    "print(\"Number of seconds\", end-start)\n",
    "\n",
    "print(\"Final answers:\")\n",
    "for triple in demo_param:\n",
    "    print(triple)\n",
    "\n",
    "\n"
   ]
  },
  {
   "cell_type": "code",
   "execution_count": null,
   "id": "3971f83b-b264-4c04-acbe-818397fde7b2",
   "metadata": {},
   "outputs": [],
   "source": []
  },
  {
   "cell_type": "code",
   "execution_count": null,
   "id": "67d72adb",
   "metadata": {},
   "outputs": [],
   "source": []
  },
  {
   "cell_type": "code",
   "execution_count": null,
   "id": "a66b3a34-53cd-44af-9efc-071995abdb27",
   "metadata": {},
   "outputs": [],
   "source": []
  },
  {
   "cell_type": "code",
   "execution_count": null,
   "id": "0740023b-4caf-48ef-b941-42abc95c1fc2",
   "metadata": {},
   "outputs": [],
   "source": []
  },
  {
   "cell_type": "code",
   "execution_count": null,
   "id": "e26c2c4b-4372-48cc-a615-09f63dac208f",
   "metadata": {},
   "outputs": [],
   "source": []
  },
  {
   "cell_type": "code",
   "execution_count": 36,
   "id": "188fb604-29f5-4399-aadb-6da047d5bedb",
   "metadata": {},
   "outputs": [],
   "source": [
    "from IPython.display import Math, display"
   ]
  },
  {
   "cell_type": "code",
   "execution_count": 37,
   "id": "7f04392f-ce8e-40a7-a08c-92bb1af90bad",
   "metadata": {},
   "outputs": [],
   "source": [
    "def display_latex(expression):\n",
    "    display(Math(str(sympy.latex(sympy.expand(expression)))))"
   ]
  },
  {
   "cell_type": "code",
   "execution_count": 39,
   "id": "fa2a47ab-0c10-444a-b61d-ffaf2e21ed30",
   "metadata": {},
   "outputs": [
    {
     "name": "stdout",
     "output_type": "stream",
     "text": [
      "------------------------------------------------------\n",
      "Parameters are  3 4 (-3, -1, -1, -3, -3)\n"
     ]
    },
    {
     "data": {
      "text/latex": [
       "$\\displaystyle f(x,y)=- 3 x^{4} - 4 x^{3} y - 6 x^{2} y^{2} - 12 x y^{3} - 3 y^{4}$"
      ],
      "text/plain": [
       "<IPython.core.display.Math object>"
      ]
     },
     "metadata": {},
     "output_type": "display_data"
    },
    {
     "data": {
      "text/latex": [
       "$\\displaystyle H(f)(x,y)=2 x^{4} + 16 x^{3} y + 12 x^{2} y^{2} - 6 y^{4}$"
      ],
      "text/plain": [
       "<IPython.core.display.Math object>"
      ]
     },
     "metadata": {},
     "output_type": "display_data"
    },
    {
     "data": {
      "text/latex": [
       "$\\displaystyle t(f)(x,y)=- 20 x^{6} - 24 x^{5} y + 60 x^{4} y^{2} + 240 x^{3} y^{3} + 180 x^{2} y^{4} + 72 x y^{5} + 36 y^{6}$"
      ],
      "text/plain": [
       "<IPython.core.display.Math object>"
      ]
     },
     "metadata": {},
     "output_type": "display_data"
    },
    {
     "name": "stdout",
     "output_type": "stream",
     "text": [
      "(x1,x2)=( 5 6 ) yields (X,Y,Z)=( 8689238 16274 -27123 )\n"
     ]
    },
    {
     "data": {
      "text/latex": [
       "$\\displaystyle 4(-27123)^3+(16274)^3+(8689238)^2=0$"
      ],
      "text/plain": [
       "<IPython.core.display.Math object>"
      ]
     },
     "metadata": {},
     "output_type": "display_data"
    },
    {
     "name": "stdout",
     "output_type": "stream",
     "text": [
      "\n",
      "(x1,x2)=( 5 8 ) yields (X,Y,Z)=( 28256582 11874 -58483 )\n"
     ]
    },
    {
     "data": {
      "text/latex": [
       "$\\displaystyle 4(-58483)^3+(11874)^3+(28256582)^2=0$"
      ],
      "text/plain": [
       "<IPython.core.display.Math object>"
      ]
     },
     "metadata": {},
     "output_type": "display_data"
    },
    {
     "name": "stdout",
     "output_type": "stream",
     "text": [
      "\n",
      "(x1,x2)=( 7 6 ) yields (X,Y,Z)=( 17611766 51122 -48051 )\n"
     ]
    },
    {
     "data": {
      "text/latex": [
       "$\\displaystyle 4(-48051)^3+(51122)^3+(17611766)^2=0$"
      ],
      "text/plain": [
       "<IPython.core.display.Math object>"
      ]
     },
     "metadata": {},
     "output_type": "display_data"
    },
    {
     "name": "stdout",
     "output_type": "stream",
     "text": [
      "\n",
      "(x1,x2)=( 7 8 ) yields (X,Y,Z)=( 53933366 61762 -92291 )\n"
     ]
    },
    {
     "data": {
      "text/latex": [
       "$\\displaystyle 4(-92291)^3+(61762)^3+(53933366)^2=0$"
      ],
      "text/plain": [
       "<IPython.core.display.Math object>"
      ]
     },
     "metadata": {},
     "output_type": "display_data"
    },
    {
     "name": "stdout",
     "output_type": "stream",
     "text": [
      "\n",
      "(x1,x2)=( 8 5 ) yields (X,Y,Z)=( 10945730 64602 -46003 )\n"
     ]
    },
    {
     "data": {
      "text/latex": [
       "$\\displaystyle 4(-46003)^3+(64602)^3+(10945730)^2=0$"
      ],
      "text/plain": [
       "<IPython.core.display.Math object>"
      ]
     },
     "metadata": {},
     "output_type": "display_data"
    },
    {
     "name": "stdout",
     "output_type": "stream",
     "text": [
      "\n",
      "(x1,x2)=( 8 7 ) yields (X,Y,Z)=( 42508946 88762 -85571 )\n"
     ]
    },
    {
     "data": {
      "text/latex": [
       "$\\displaystyle 4(-85571)^3+(88762)^3+(42508946)^2=0$"
      ],
      "text/plain": [
       "<IPython.core.display.Math object>"
      ]
     },
     "metadata": {},
     "output_type": "display_data"
    },
    {
     "name": "stdout",
     "output_type": "stream",
     "text": [
      "\n",
      "(x1,x2)=( 8 9 ) yields (X,Y,Z)=( 112946066 104762 -151491 )\n"
     ]
    },
    {
     "data": {
      "text/latex": [
       "$\\displaystyle 4(-151491)^3+(104762)^3+(112946066)^2=0$"
      ],
      "text/plain": [
       "<IPython.core.display.Math object>"
      ]
     },
     "metadata": {},
     "output_type": "display_data"
    },
    {
     "name": "stdout",
     "output_type": "stream",
     "text": [
      "\n",
      "------------------------------------------------------\n",
      "Parameters are  3 4 (-3, 0, -1, -2, 1)\n"
     ]
    },
    {
     "data": {
      "text/latex": [
       "$\\displaystyle f(x,y)=- 3 x^{4} - 6 x^{2} y^{2} - 8 x y^{3} + y^{4}$"
      ],
      "text/plain": [
       "<IPython.core.display.Math object>"
      ]
     },
     "metadata": {},
     "output_type": "display_data"
    },
    {
     "data": {
      "text/latex": [
       "$\\displaystyle H(f)(x,y)=3 x^{4} + 12 x^{3} y - 6 x^{2} y^{2} - 4 x y^{3} - 5 y^{4}$"
      ],
      "text/plain": [
       "<IPython.core.display.Math object>"
      ]
     },
     "metadata": {},
     "output_type": "display_data"
    },
    {
     "data": {
      "text/latex": [
       "$\\displaystyle t(f)(x,y)=- 18 x^{6} + 36 x^{5} y + 90 x^{4} y^{2} + 120 x^{3} y^{3} - 30 x^{2} y^{4} + 36 x y^{5} + 22 y^{6}$"
      ],
      "text/plain": [
       "<IPython.core.display.Math object>"
      ]
     },
     "metadata": {},
     "output_type": "display_data"
    },
    {
     "name": "stdout",
     "output_type": "stream",
     "text": [
      "(x1,x2)=( 5 8 ) yields (X,Y,Z)=( 10246079 -26445 -27859 )\n"
     ]
    },
    {
     "data": {
      "text/latex": [
       "$\\displaystyle 4(-27859)^3+(-26445)^3+(10246079)^2=0$"
      ],
      "text/plain": [
       "<IPython.core.display.Math object>"
      ]
     },
     "metadata": {},
     "output_type": "display_data"
    },
    {
     "name": "stdout",
     "output_type": "stream",
     "text": [
      "\n",
      "(x1,x2)=( 6 5 ) yields (X,Y,Z)=( 3529811 5323 -14663 )\n"
     ]
    },
    {
     "data": {
      "text/latex": [
       "$\\displaystyle 4(-14663)^3+(5323)^3+(3529811)^2=0$"
      ],
      "text/plain": [
       "<IPython.core.display.Math object>"
      ]
     },
     "metadata": {},
     "output_type": "display_data"
    },
    {
     "name": "stdout",
     "output_type": "stream",
     "text": [
      "\n",
      "(x1,x2)=( 6 7 ) yields (X,Y,Z)=( 9675587 -8789 -28535 )\n"
     ]
    },
    {
     "data": {
      "text/latex": [
       "$\\displaystyle 4(-28535)^3+(-8789)^3+(9675587)^2=0$"
      ],
      "text/plain": [
       "<IPython.core.display.Math object>"
      ]
     },
     "metadata": {},
     "output_type": "display_data"
    },
    {
     "name": "stdout",
     "output_type": "stream",
     "text": [
      "\n",
      "(x1,x2)=( 7 8 ) yields (X,Y,Z)=( 22814999 -13501 -50595 )\n"
     ]
    },
    {
     "data": {
      "text/latex": [
       "$\\displaystyle 4(-50595)^3+(-13501)^3+(22814999)^2=0$"
      ],
      "text/plain": [
       "<IPython.core.display.Math object>"
      ]
     },
     "metadata": {},
     "output_type": "display_data"
    },
    {
     "name": "stdout",
     "output_type": "stream",
     "text": [
      "\n",
      "(x1,x2)=( 8 5 ) yields (X,Y,Z)=( 9059699 26283 -29263 )\n"
     ]
    },
    {
     "data": {
      "text/latex": [
       "$\\displaystyle 4(-29263)^3+(26283)^3+(9059699)^2=0$"
      ],
      "text/plain": [
       "<IPython.core.display.Math object>"
      ]
     },
     "metadata": {},
     "output_type": "display_data"
    },
    {
     "name": "stdout",
     "output_type": "stream",
     "text": [
      "\n",
      "(x1,x2)=( 8 7 ) yields (X,Y,Z)=( 22747499 13499 -50655 )\n"
     ]
    },
    {
     "data": {
      "text/latex": [
       "$\\displaystyle 4(-50655)^3+(13499)^3+(22747499)^2=0$"
      ],
      "text/plain": [
       "<IPython.core.display.Math object>"
      ]
     },
     "metadata": {},
     "output_type": "display_data"
    },
    {
     "name": "stdout",
     "output_type": "stream",
     "text": [
      "\n",
      "(x1,x2)=( 9 8 ) yields (X,Y,Z)=( 48226007 19651 -83555 )\n"
     ]
    },
    {
     "data": {
      "text/latex": [
       "$\\displaystyle 4(-83555)^3+(19651)^3+(48226007)^2=0$"
      ],
      "text/plain": [
       "<IPython.core.display.Math object>"
      ]
     },
     "metadata": {},
     "output_type": "display_data"
    },
    {
     "name": "stdout",
     "output_type": "stream",
     "text": [
      "\n",
      "------------------------------------------------------\n",
      "Parameters are  3 4 (-1, 0, 0, -4, 0)\n"
     ]
    },
    {
     "data": {
      "text/latex": [
       "$\\displaystyle f(x,y)=- x^{4} - 16 x y^{3}$"
      ],
      "text/plain": [
       "<IPython.core.display.Math object>"
      ]
     },
     "metadata": {},
     "output_type": "display_data"
    },
    {
     "data": {
      "text/latex": [
       "$\\displaystyle H(f)(x,y)=8 x^{3} y - 16 y^{4}$"
      ],
      "text/plain": [
       "<IPython.core.display.Math object>"
      ]
     },
     "metadata": {},
     "output_type": "display_data"
    },
    {
     "data": {
      "text/latex": [
       "$\\displaystyle t(f)(x,y)=- 4 x^{6} + 160 x^{3} y^{3} + 128 y^{6}$"
      ],
      "text/plain": [
       "<IPython.core.display.Math object>"
      ]
     },
     "metadata": {},
     "output_type": "display_data"
    },
    {
     "name": "stdout",
     "output_type": "stream",
     "text": [
      "(x1,x2)=( 5 6 ) yields (X,Y,Z)=( 5114734 -14736 -17905 )\n"
     ]
    },
    {
     "data": {
      "text/latex": [
       "$\\displaystyle 4(-17905)^3+(-14736)^3+(5114734)^2=0$"
      ],
      "text/plain": [
       "<IPython.core.display.Math object>"
      ]
     },
     "metadata": {},
     "output_type": "display_data"
    },
    {
     "name": "stdout",
     "output_type": "stream",
     "text": [
      "\n",
      "(x1,x2)=( 5 8 ) yields (X,Y,Z)=( 21865966 -57536 -41585 )\n"
     ]
    },
    {
     "data": {
      "text/latex": [
       "$\\displaystyle 4(-41585)^3+(-57536)^3+(21865966)^2=0$"
      ],
      "text/plain": [
       "<IPython.core.display.Math object>"
      ]
     },
     "metadata": {},
     "output_type": "display_data"
    },
    {
     "name": "stdout",
     "output_type": "stream",
     "text": [
      "\n",
      "(x1,x2)=( 5 9 ) yields (X,Y,Z)=( 41270974 -95976 -58945 )\n"
     ]
    },
    {
     "data": {
      "text/latex": [
       "$\\displaystyle 4(-58945)^3+(-95976)^3+(41270974)^2=0$"
      ],
      "text/plain": [
       "<IPython.core.display.Math object>"
      ]
     },
     "metadata": {},
     "output_type": "display_data"
    },
    {
     "name": "stdout",
     "output_type": "stream",
     "text": [
      "\n",
      "(x1,x2)=( 7 6 ) yields (X,Y,Z)=( 8677726 -4272 -26593 )\n"
     ]
    },
    {
     "data": {
      "text/latex": [
       "$\\displaystyle 4(-26593)^3+(-4272)^3+(8677726)^2=0$"
      ],
      "text/plain": [
       "<IPython.core.display.Math object>"
      ]
     },
     "metadata": {},
     "output_type": "display_data"
    },
    {
     "name": "stdout",
     "output_type": "stream",
     "text": [
      "\n",
      "(x1,x2)=( 7 9 ) yields (X,Y,Z)=( 53780686 -80280 -84049 )\n"
     ]
    },
    {
     "data": {
      "text/latex": [
       "$\\displaystyle 4(-84049)^3+(-80280)^3+(53780686)^2=0$"
      ],
      "text/plain": [
       "<IPython.core.display.Math object>"
      ]
     },
     "metadata": {},
     "output_type": "display_data"
    },
    {
     "name": "stdout",
     "output_type": "stream",
     "text": [
      "\n",
      "(x1,x2)=( 9 5 ) yields (X,Y,Z)=( 7227118 19160 -24561 )\n"
     ]
    },
    {
     "data": {
      "text/latex": [
       "$\\displaystyle 4(-24561)^3+(19160)^3+(7227118)^2=0$"
      ],
      "text/plain": [
       "<IPython.core.display.Math object>"
      ]
     },
     "metadata": {},
     "output_type": "display_data"
    },
    {
     "name": "stdout",
     "output_type": "stream",
     "text": [
      "\n",
      "(x1,x2)=( 9 7 ) yields (X,Y,Z)=( 26470414 2408 -55953 )\n"
     ]
    },
    {
     "data": {
      "text/latex": [
       "$\\displaystyle 4(-55953)^3+(2408)^3+(26470414)^2=0$"
      ],
      "text/plain": [
       "<IPython.core.display.Math object>"
      ]
     },
     "metadata": {},
     "output_type": "display_data"
    },
    {
     "name": "stdout",
     "output_type": "stream",
     "text": [
      "\n",
      "(x1,x2)=( 9 8 ) yields (X,Y,Z)=( 45574174 -18880 -80289 )\n"
     ]
    },
    {
     "data": {
      "text/latex": [
       "$\\displaystyle 4(-80289)^3+(-18880)^3+(45574174)^2=0$"
      ],
      "text/plain": [
       "<IPython.core.display.Math object>"
      ]
     },
     "metadata": {},
     "output_type": "display_data"
    },
    {
     "name": "stdout",
     "output_type": "stream",
     "text": [
      "\n",
      "------------------------------------------------------\n",
      "Parameters are  3 4 (0, -1, 0, 0, -16)\n"
     ]
    },
    {
     "data": {
      "text/latex": [
       "$\\displaystyle f(x,y)=- 4 x^{3} y - 16 y^{4}$"
      ],
      "text/plain": [
       "<IPython.core.display.Math object>"
      ]
     },
     "metadata": {},
     "output_type": "display_data"
    },
    {
     "data": {
      "text/latex": [
       "$\\displaystyle H(f)(x,y)=- x^{4} + 32 x y^{3}$"
      ],
      "text/plain": [
       "<IPython.core.display.Math object>"
      ]
     },
     "metadata": {},
     "output_type": "display_data"
    },
    {
     "data": {
      "text/latex": [
       "$\\displaystyle t(f)(x,y)=- 2 x^{6} - 160 x^{3} y^{3} + 256 y^{6}$"
      ],
      "text/plain": [
       "<IPython.core.display.Math object>"
      ]
     },
     "metadata": {},
     "output_type": "display_data"
    },
    {
     "name": "stdout",
     "output_type": "stream",
     "text": [
      "(x1,x2)=( 5 6 ) yields (X,Y,Z)=( 3796343 33935 -23736 )\n"
     ]
    },
    {
     "data": {
      "text/latex": [
       "$\\displaystyle 4(-23736)^3+(33935)^3+(3796343)^2=0$"
      ],
      "text/plain": [
       "<IPython.core.display.Math object>"
      ]
     },
     "metadata": {},
     "output_type": "display_data"
    },
    {
     "name": "stdout",
     "output_type": "stream",
     "text": [
      "\n",
      "(x1,x2)=( 5 8 ) yields (X,Y,Z)=( 28418807 81295 -69536 )\n"
     ]
    },
    {
     "data": {
      "text/latex": [
       "$\\displaystyle 4(-69536)^3+(81295)^3+(28418807)^2=0$"
      ],
      "text/plain": [
       "<IPython.core.display.Math object>"
      ]
     },
     "metadata": {},
     "output_type": "display_data"
    },
    {
     "name": "stdout",
     "output_type": "stream",
     "text": [
      "\n",
      "(x1,x2)=( 5 9 ) yields (X,Y,Z)=( 60718823 116015 -109476 )\n"
     ]
    },
    {
     "data": {
      "text/latex": [
       "$\\displaystyle 4(-109476)^3+(116015)^3+(60718823)^2=0$"
      ],
      "text/plain": [
       "<IPython.core.display.Math object>"
      ]
     },
     "metadata": {},
     "output_type": "display_data"
    },
    {
     "name": "stdout",
     "output_type": "stream",
     "text": [
      "\n",
      "(x1,x2)=( 7 6 ) yields (X,Y,Z)=( -72721 45983 -28968 )\n"
     ]
    },
    {
     "data": {
      "text/latex": [
       "$\\displaystyle 4(-28968)^3+(45983)^3+(-72721)^2=0$"
      ],
      "text/plain": [
       "<IPython.core.display.Math object>"
      ]
     },
     "metadata": {},
     "output_type": "display_data"
    },
    {
     "name": "stdout",
     "output_type": "stream",
     "text": [
      "\n",
      "(x1,x2)=( 7 9 ) yields (X,Y,Z)=( 47903039 160895 -117324 )\n"
     ]
    },
    {
     "data": {
      "text/latex": [
       "$\\displaystyle 4(-117324)^3+(160895)^3+(47903039)^2=0$"
      ],
      "text/plain": [
       "<IPython.core.display.Math object>"
      ]
     },
     "metadata": {},
     "output_type": "display_data"
    },
    {
     "name": "stdout",
     "output_type": "stream",
     "text": [
      "\n",
      "(x1,x2)=( 9 5 ) yields (X,Y,Z)=( -5821441 29439 -24580 )\n"
     ]
    },
    {
     "data": {
      "text/latex": [
       "$\\displaystyle 4(-24580)^3+(29439)^3+(-5821441)^2=0$"
      ],
      "text/plain": [
       "<IPython.core.display.Math object>"
      ]
     },
     "metadata": {},
     "output_type": "display_data"
    },
    {
     "name": "stdout",
     "output_type": "stream",
     "text": [
      "\n",
      "(x1,x2)=( 9 7 ) yields (X,Y,Z)=( -5476129 92223 -58828 )\n"
     ]
    },
    {
     "data": {
      "text/latex": [
       "$\\displaystyle 4(-58828)^3+(92223)^3+(-5476129)^2=0$"
      ],
      "text/plain": [
       "<IPython.core.display.Math object>"
      ]
     },
     "metadata": {},
     "output_type": "display_data"
    },
    {
     "name": "stdout",
     "output_type": "stream",
     "text": [
      "\n",
      "(x1,x2)=( 9 8 ) yields (X,Y,Z)=( 3163151 140895 -88864 )\n"
     ]
    },
    {
     "data": {
      "text/latex": [
       "$\\displaystyle 4(-88864)^3+(140895)^3+(3163151)^2=0$"
      ],
      "text/plain": [
       "<IPython.core.display.Math object>"
      ]
     },
     "metadata": {},
     "output_type": "display_data"
    },
    {
     "name": "stdout",
     "output_type": "stream",
     "text": [
      "\n",
      "------------------------------------------------------\n",
      "Parameters are  3 4 (1, 1, -1, -1, -7)\n"
     ]
    },
    {
     "data": {
      "text/latex": [
       "$\\displaystyle f(x,y)=x^{4} + 4 x^{3} y - 6 x^{2} y^{2} - 4 x y^{3} - 7 y^{4}$"
      ],
      "text/plain": [
       "<IPython.core.display.Math object>"
      ]
     },
     "metadata": {},
     "output_type": "display_data"
    },
    {
     "data": {
      "text/latex": [
       "$\\displaystyle H(f)(x,y)=- 2 x^{4} - 12 x^{2} y^{2} - 16 x y^{3} + 6 y^{4}$"
      ],
      "text/plain": [
       "<IPython.core.display.Math object>"
      ]
     },
     "metadata": {},
     "output_type": "display_data"
    },
    {
     "data": {
      "text/latex": [
       "$\\displaystyle t(f)(x,y)=4 x^{6} - 24 x^{5} y - 60 x^{4} y^{2} - 80 x^{3} y^{3} + 60 x^{2} y^{4} - 120 x y^{5} - 68 y^{6}$"
      ],
      "text/plain": [
       "<IPython.core.display.Math object>"
      ]
     },
     "metadata": {},
     "output_type": "display_data"
    },
    {
     "name": "stdout",
     "output_type": "stream",
     "text": [
      "(x1,x2)=( 5 6 ) yields (X,Y,Z)=( -4895854 -21554 -15167 )\n"
     ]
    },
    {
     "data": {
      "text/latex": [
       "$\\displaystyle 4(-15167)^3+(-21554)^3+(-4895854)^2=0$"
      ],
      "text/plain": [
       "<IPython.core.display.Math object>"
      ]
     },
     "metadata": {},
     "output_type": "display_data"
    },
    {
     "name": "stdout",
     "output_type": "stream",
     "text": [
      "\n",
      "(x1,x2)=( 6 5 ) yields (X,Y,Z)=( -3406498 -21642 -7159 )\n"
     ]
    },
    {
     "data": {
      "text/latex": [
       "$\\displaystyle 4(-7159)^3+(-21642)^3+(-3406498)^2=0$"
      ],
      "text/plain": [
       "<IPython.core.display.Math object>"
      ]
     },
     "metadata": {},
     "output_type": "display_data"
    },
    {
     "name": "stdout",
     "output_type": "stream",
     "text": [
      "\n",
      "(x1,x2)=( 6 7 ) yields (X,Y,Z)=( -12886018 -42282 -28279 )\n"
     ]
    },
    {
     "data": {
      "text/latex": [
       "$\\displaystyle 4(-28279)^3+(-42282)^3+(-12886018)^2=0$"
      ],
      "text/plain": [
       "<IPython.core.display.Math object>"
      ]
     },
     "metadata": {},
     "output_type": "display_data"
    },
    {
     "name": "stdout",
     "output_type": "stream",
     "text": [
      "\n",
      "(x1,x2)=( 7 6 ) yields (X,Y,Z)=( -9478510 -42386 -15071 )\n"
     ]
    },
    {
     "data": {
      "text/latex": [
       "$\\displaystyle 4(-15071)^3+(-42386)^3+(-9478510)^2=0$"
      ],
      "text/plain": [
       "<IPython.core.display.Math object>"
      ]
     },
     "metadata": {},
     "output_type": "display_data"
    },
    {
     "name": "stdout",
     "output_type": "stream",
     "text": [
      "\n",
      "(x1,x2)=( 7 8 ) yields (X,Y,Z)=( -29667070 -75202 -48447 )\n"
     ]
    },
    {
     "data": {
      "text/latex": [
       "$\\displaystyle 4(-48447)^3+(-75202)^3+(-29667070)^2=0$"
      ],
      "text/plain": [
       "<IPython.core.display.Math object>"
      ]
     },
     "metadata": {},
     "output_type": "display_data"
    },
    {
     "name": "stdout",
     "output_type": "stream",
     "text": [
      "\n",
      "(x1,x2)=( 8 7 ) yields (X,Y,Z)=( -22731490 -75322 -28167 )\n"
     ]
    },
    {
     "data": {
      "text/latex": [
       "$\\displaystyle 4(-28167)^3+(-75322)^3+(-22731490)^2=0$"
      ],
      "text/plain": [
       "<IPython.core.display.Math object>"
      ]
     },
     "metadata": {},
     "output_type": "display_data"
    },
    {
     "name": "stdout",
     "output_type": "stream",
     "text": [
      "\n",
      "(x1,x2)=( 8 9 ) yields (X,Y,Z)=( -61713250 -124346 -77831 )\n"
     ]
    },
    {
     "data": {
      "text/latex": [
       "$\\displaystyle 4(-77831)^3+(-124346)^3+(-61713250)^2=0$"
      ],
      "text/plain": [
       "<IPython.core.display.Math object>"
      ]
     },
     "metadata": {},
     "output_type": "display_data"
    },
    {
     "name": "stdout",
     "output_type": "stream",
     "text": [
      "\n",
      "(x1,x2)=( 9 8 ) yields (X,Y,Z)=( -48787198 -124482 -48319 )\n"
     ]
    },
    {
     "data": {
      "text/latex": [
       "$\\displaystyle 4(-48319)^3+(-124482)^3+(-48787198)^2=0$"
      ],
      "text/plain": [
       "<IPython.core.display.Math object>"
      ]
     },
     "metadata": {},
     "output_type": "display_data"
    },
    {
     "name": "stdout",
     "output_type": "stream",
     "text": [
      "\n",
      "------------------------------------------------------\n",
      "Parameters are  4 -5 (-8, -4, -4, 0, 6, 9, 27)\n"
     ]
    },
    {
     "data": {
      "text/latex": [
       "$\\displaystyle f(x,y)=- 8 x^{6} - 24 x^{5} y - 60 x^{4} y^{2} + 90 x^{2} y^{4} + 54 x y^{5} + 27 y^{6}$"
      ],
      "text/plain": [
       "<IPython.core.display.Math object>"
      ]
     },
     "metadata": {},
     "output_type": "display_data"
    },
    {
     "data": {
      "text/latex": [
       "$\\displaystyle H(f)(x,y)=16 x^{8} - 64 x^{7} y - 448 x^{6} y^{2} - 672 x^{5} y^{3} - 840 x^{4} y^{4} - 1008 x^{3} y^{5} - 1008 x^{2} y^{6} - 216 x y^{7} + 81 y^{8}$"
      ],
      "text/plain": [
       "<IPython.core.display.Math object>"
      ]
     },
     "metadata": {},
     "output_type": "display_data"
    },
    {
     "data": {
      "text/latex": [
       "$\\displaystyle t(f)(x,y)=256 x^{12} + 2304 x^{11} y + 4224 x^{10} y^{2} + 7040 x^{9} y^{3} + 31680 x^{8} y^{4} + 88704 x^{7} y^{5} + 133056 x^{6} y^{6} + 133056 x^{5} y^{7} + 71280 x^{4} y^{8} + 23760 x^{3} y^{9} + 21384 x^{2} y^{10} + 17496 x y^{11} + 2916 y^{12}$"
      ],
      "text/plain": [
       "<IPython.core.display.Math object>"
      ]
     },
     "metadata": {},
     "output_type": "display_data"
    },
    {
     "name": "stdout",
     "output_type": "stream",
     "text": [
      "(x1,x2)=( 5 7 ) yields (X,Y,Z)=( 740907468905578 -7857489359 10629163 )\n"
     ]
    },
    {
     "data": {
      "text/latex": [
       "$\\displaystyle -5(10629163)^4+(-7857489359)^3+(740907468905578)^2=0$"
      ],
      "text/plain": [
       "<IPython.core.display.Math object>"
      ]
     },
     "metadata": {},
     "output_type": "display_data"
    },
    {
     "name": "stdout",
     "output_type": "stream",
     "text": [
      "\n",
      "(x1,x2)=( 5 9 ) yields (X,Y,Z)=( 6049825565414258 -28092484319 41216887 )\n"
     ]
    },
    {
     "data": {
      "text/latex": [
       "$\\displaystyle -5(41216887)^4+(-28092484319)^3+(6049825565414258)^2=0$"
      ],
      "text/plain": [
       "<IPython.core.display.Math object>"
      ]
     },
     "metadata": {},
     "output_type": "display_data"
    },
    {
     "name": "stdout",
     "output_type": "stream",
     "text": [
      "\n",
      "(x1,x2)=( 7 5 ) yields (X,Y,Z)=( 476543853634858 -6099963119 -2200157 )\n"
     ]
    },
    {
     "data": {
      "text/latex": [
       "$\\displaystyle -5(-2200157)^4+(-6099963119)^3+(476543853634858)^2=0$"
      ],
      "text/plain": [
       "<IPython.core.display.Math object>"
      ]
     },
     "metadata": {},
     "output_type": "display_data"
    },
    {
     "name": "stdout",
     "output_type": "stream",
     "text": [
      "\n",
      "(x1,x2)=( 8 5 ) yields (X,Y,Z)=( 1152953203030578 -10965737359 -6801437 )\n"
     ]
    },
    {
     "data": {
      "text/latex": [
       "$\\displaystyle -5(-6801437)^4+(-10965737359)^3+(1152953203030578)^2=0$"
      ],
      "text/plain": [
       "<IPython.core.display.Math object>"
      ]
     },
     "metadata": {},
     "output_type": "display_data"
    },
    {
     "name": "stdout",
     "output_type": "stream",
     "text": [
      "\n",
      "(x1,x2)=( 8 7 ) yields (X,Y,Z)=( 7838537015893138 -39459474479 4622491 )\n"
     ]
    },
    {
     "data": {
      "text/latex": [
       "$\\displaystyle -5(4622491)^4+(-39459474479)^3+(7838537015893138)^2=0$"
      ],
      "text/plain": [
       "<IPython.core.display.Math object>"
      ]
     },
     "metadata": {},
     "output_type": "display_data"
    },
    {
     "name": "stdout",
     "output_type": "stream",
     "text": [
      "\n",
      "(x1,x2)=( 8 9 ) yields (X,Y,Z)=( 41191426362733778 -118616355119 48567835 )\n"
     ]
    },
    {
     "data": {
      "text/latex": [
       "$\\displaystyle -5(48567835)^4+(-118616355119)^3+(41191426362733778)^2=0$"
      ],
      "text/plain": [
       "<IPython.core.display.Math object>"
      ]
     },
     "metadata": {},
     "output_type": "display_data"
    },
    {
     "name": "stdout",
     "output_type": "stream",
     "text": [
      "\n",
      "------------------------------------------------------\n",
      "Parameters are  4 -5 (-8, 3, 4, 4, 0, 4, 16)\n"
     ]
    },
    {
     "data": {
      "text/latex": [
       "$\\displaystyle f(x,y)=- 8 x^{6} + 18 x^{5} y + 60 x^{4} y^{2} + 80 x^{3} y^{3} + 24 x y^{5} + 16 y^{6}$"
      ],
      "text/plain": [
       "<IPython.core.display.Math object>"
      ]
     },
     "metadata": {},
     "output_type": "display_data"
    },
    {
     "data": {
      "text/latex": [
       "$\\displaystyle H(f)(x,y)=- 41 x^{8} - 176 x^{7} y - 112 x^{6} y^{2} - 448 x^{5} y^{3} - 280 x^{4} y^{4} + 448 x^{3} y^{5} + 448 x^{2} y^{6} + 256 x y^{7} - 16 y^{8}$"
      ],
      "text/plain": [
       "<IPython.core.display.Math object>"
      ]
     },
     "metadata": {},
     "output_type": "display_data"
    },
    {
     "data": {
      "text/latex": [
       "$\\displaystyle t(f)(x,y)=598 x^{12} + 2352 x^{11} y + 10032 x^{10} y^{2} + 10560 x^{9} y^{3} - 3960 x^{8} y^{4} + 12672 x^{7} y^{5} + 29568 x^{6} y^{6} + 50688 x^{5} y^{7} + 47520 x^{4} y^{8} + 14080 x^{3} y^{9} - 8448 x^{2} y^{10} - 3072 x y^{11} - 1152 y^{12}$"
      ],
      "text/plain": [
       "<IPython.core.display.Math object>"
      ]
     },
     "metadata": {},
     "output_type": "display_data"
    },
    {
     "name": "stdout",
     "output_type": "stream",
     "text": [
      "(x1,x2)=( 5 6 ) yields (X,Y,Z)=( 63589012875659 598731799 5402116 )\n"
     ]
    },
    {
     "data": {
      "text/latex": [
       "$\\displaystyle -5(5402116)^4+(598731799)^3+(63589012875659)^2=0$"
      ],
      "text/plain": [
       "<IPython.core.display.Math object>"
      ]
     },
     "metadata": {},
     "output_type": "display_data"
    },
    {
     "name": "stdout",
     "output_type": "stream",
     "text": [
      "\n",
      "(x1,x2)=( 5 8 ) yields (X,Y,Z)=( 396962240805979 5515324279 15971464 )\n"
     ]
    },
    {
     "data": {
      "text/latex": [
       "$\\displaystyle -5(15971464)^4+(5515324279)^3+(396962240805979)^2=0$"
      ],
      "text/plain": [
       "<IPython.core.display.Math object>"
      ]
     },
     "metadata": {},
     "output_type": "display_data"
    },
    {
     "name": "stdout",
     "output_type": "stream",
     "text": [
      "\n",
      "(x1,x2)=( 5 9 ) yields (X,Y,Z)=( 746087542773599 12242045359 26297686 )\n"
     ]
    },
    {
     "data": {
      "text/latex": [
       "$\\displaystyle -5(26297686)^4+(12242045359)^3+(746087542773599)^2=0$"
      ],
      "text/plain": [
       "<IPython.core.display.Math object>"
      ]
     },
     "metadata": {},
     "output_type": "display_data"
    },
    {
     "name": "stdout",
     "output_type": "stream",
     "text": [
      "\n",
      "(x1,x2)=( 7 6 ) yields (X,Y,Z)=( 443777187798299 -1384178441 14040028 )\n"
     ]
    },
    {
     "data": {
      "text/latex": [
       "$\\displaystyle -5(14040028)^4+(-1384178441)^3+(443777187798299)^2=0$"
      ],
      "text/plain": [
       "<IPython.core.display.Math object>"
      ]
     },
     "metadata": {},
     "output_type": "display_data"
    },
    {
     "name": "stdout",
     "output_type": "stream",
     "text": [
      "\n",
      "(x1,x2)=( 9 5 ) yields (X,Y,Z)=( 1309780864746639 -10155532081 19119382 )\n"
     ]
    },
    {
     "data": {
      "text/latex": [
       "$\\displaystyle -5(19119382)^4+(-10155532081)^3+(1309780864746639)^2=0$"
      ],
      "text/plain": [
       "<IPython.core.display.Math object>"
      ]
     },
     "metadata": {},
     "output_type": "display_data"
    },
    {
     "name": "stdout",
     "output_type": "stream",
     "text": [
      "\n",
      "(x1,x2)=( 9 7 ) yields (X,Y,Z)=( 5336724876279039 -12495131281 47994442 )\n"
     ]
    },
    {
     "data": {
      "text/latex": [
       "$\\displaystyle -5(47994442)^4+(-12495131281)^3+(5336724876279039)^2=0$"
      ],
      "text/plain": [
       "<IPython.core.display.Math object>"
      ]
     },
     "metadata": {},
     "output_type": "display_data"
    },
    {
     "name": "stdout",
     "output_type": "stream",
     "text": [
      "\n",
      "------------------------------------------------------\n",
      "Parameters are  4 -5 (-2, -1, 0, -4, -8, -12, 64)\n"
     ]
    },
    {
     "data": {
      "text/latex": [
       "$\\displaystyle f(x,y)=- 2 x^{6} - 6 x^{5} y - 80 x^{3} y^{3} - 120 x^{2} y^{4} - 72 x y^{5} + 64 y^{6}$"
      ],
      "text/plain": [
       "<IPython.core.display.Math object>"
      ]
     },
     "metadata": {},
     "output_type": "display_data"
    },
    {
     "data": {
      "text/latex": [
       "$\\displaystyle H(f)(x,y)=- x^{8} + 32 x^{7} y + 112 x^{6} y^{2} + 224 x^{5} y^{3} - 280 x^{4} y^{4} - 896 x^{3} y^{5} - 448 x^{2} y^{6} - 1408 x y^{7} - 656 y^{8}$"
      ],
      "text/plain": [
       "<IPython.core.display.Math object>"
      ]
     },
     "metadata": {},
     "output_type": "display_data"
    },
    {
     "data": {
      "text/latex": [
       "$\\displaystyle t(f)(x,y)=- 18 x^{12} - 96 x^{11} y - 528 x^{10} y^{2} + 1760 x^{9} y^{3} + 11880 x^{8} y^{4} + 25344 x^{7} y^{5} + 29568 x^{6} y^{6} + 25344 x^{5} y^{7} - 15840 x^{4} y^{8} + 84480 x^{3} y^{9} + 160512 x^{2} y^{10} + 75264 x y^{11} + 38272 y^{12}$"
      ],
      "text/plain": [
       "<IPython.core.display.Math object>"
      ]
     },
     "metadata": {},
     "output_type": "display_data"
    },
    {
     "name": "stdout",
     "output_type": "stream",
     "text": [
      "(x1,x2)=( 5 6 ) yields (X,Y,Z)=( 308964816379431 -4464027361 -6005126 )\n"
     ]
    },
    {
     "data": {
      "text/latex": [
       "$\\displaystyle -5(-6005126)^4+(-4464027361)^3+(308964816379431)^2=0$"
      ],
      "text/plain": [
       "<IPython.core.display.Math object>"
      ]
     },
     "metadata": {},
     "output_type": "display_data"
    },
    {
     "name": "stdout",
     "output_type": "stream",
     "text": [
      "\n",
      "(x1,x2)=( 5 7 ) yields (X,Y,Z)=( 1470654113166691 -12856720601 -9316484 )\n"
     ]
    },
    {
     "data": {
      "text/latex": [
       "$\\displaystyle -5(-9316484)^4+(-12856720601)^3+(1470654113166691)^2=0$"
      ],
      "text/plain": [
       "<IPython.core.display.Math object>"
      ]
     },
     "metadata": {},
     "output_type": "display_data"
    },
    {
     "name": "stdout",
     "output_type": "stream",
     "text": [
      "\n",
      "(x1,x2)=( 5 9 ) yields (X,Y,Z)=( 20524486294588131 -74950393561 -14418416 )\n"
     ]
    },
    {
     "data": {
      "text/latex": [
       "$\\displaystyle -5(-14418416)^4+(-74950393561)^3+(20524486294588131)^2=0$"
      ],
      "text/plain": [
       "<IPython.core.display.Math object>"
      ]
     },
     "metadata": {},
     "output_type": "display_data"
    },
    {
     "name": "stdout",
     "output_type": "stream",
     "text": [
      "\n",
      "(x1,x2)=( 7 5 ) yields (X,Y,Z)=( 176612936885971 -1823809721 -8419508 )\n"
     ]
    },
    {
     "data": {
      "text/latex": [
       "$\\displaystyle -5(-8419508)^4+(-1823809721)^3+(176612936885971)^2=0$"
      ],
      "text/plain": [
       "<IPython.core.display.Math object>"
      ]
     },
     "metadata": {},
     "output_type": "display_data"
    },
    {
     "name": "stdout",
     "output_type": "stream",
     "text": [
      "\n",
      "(x1,x2)=( 7 6 ) yields (X,Y,Z)=( 759670231047831 -6706221121 -15320990 )\n"
     ]
    },
    {
     "data": {
      "text/latex": [
       "$\\displaystyle -5(-15320990)^4+(-6706221121)^3+(759670231047831)^2=0$"
      ],
      "text/plain": [
       "<IPython.core.display.Math object>"
      ]
     },
     "metadata": {},
     "output_type": "display_data"
    },
    {
     "name": "stdout",
     "output_type": "stream",
     "text": [
      "\n",
      "(x1,x2)=( 7 9 ) yields (X,Y,Z)=( 34980311871616851 -105560781241 -55473788 )\n"
     ]
    },
    {
     "data": {
      "text/latex": [
       "$\\displaystyle -5(-55473788)^4+(-105560781241)^3+(34980311871616851)^2=0$"
      ],
      "text/plain": [
       "<IPython.core.display.Math object>"
      ]
     },
     "metadata": {},
     "output_type": "display_data"
    },
    {
     "name": "stdout",
     "output_type": "stream",
     "text": [
      "\n",
      "(x1,x2)=( 9 5 ) yields (X,Y,Z)=( 664505592971411 -1138989881 -17224352 )\n"
     ]
    },
    {
     "data": {
      "text/latex": [
       "$\\displaystyle -5(-17224352)^4+(-1138989881)^3+(664505592971411)^2=0$"
      ],
      "text/plain": [
       "<IPython.core.display.Math object>"
      ]
     },
     "metadata": {},
     "output_type": "display_data"
    },
    {
     "name": "stdout",
     "output_type": "stream",
     "text": [
      "\n",
      "(x1,x2)=( 9 7 ) yields (X,Y,Z)=( 6945836219926931 -25394046521 -50245820 )\n"
     ]
    },
    {
     "data": {
      "text/latex": [
       "$\\displaystyle -5(-50245820)^4+(-25394046521)^3+(6945836219926931)^2=0$"
      ],
      "text/plain": [
       "<IPython.core.display.Math object>"
      ]
     },
     "metadata": {},
     "output_type": "display_data"
    },
    {
     "name": "stdout",
     "output_type": "stream",
     "text": [
      "\n",
      "(x1,x2)=( 9 8 ) yields (X,Y,Z)=( 21228903029217431 -64258884161 -78026642 )\n"
     ]
    },
    {
     "data": {
      "text/latex": [
       "$\\displaystyle -5(-78026642)^4+(-64258884161)^3+(21228903029217431)^2=0$"
      ],
      "text/plain": [
       "<IPython.core.display.Math object>"
      ]
     },
     "metadata": {},
     "output_type": "display_data"
    },
    {
     "name": "stdout",
     "output_type": "stream",
     "text": [
      "\n",
      "------------------------------------------------------\n",
      "Parameters are  4 -5 (-1, 0, -1, -4, 3, 8, 155)\n"
     ]
    },
    {
     "data": {
      "text/latex": [
       "$\\displaystyle f(x,y)=- x^{6} - 15 x^{4} y^{2} - 80 x^{3} y^{3} + 45 x^{2} y^{4} + 48 x y^{5} + 155 y^{6}$"
      ],
      "text/plain": [
       "<IPython.core.display.Math object>"
      ]
     },
     "metadata": {},
     "output_type": "display_data"
    },
    {
     "data": {
      "text/latex": [
       "$\\displaystyle H(f)(x,y)=x^{8} + 16 x^{7} y - 28 x^{6} y^{2} - 112 x^{5} y^{3} - 490 x^{4} y^{4} + 112 x^{3} y^{5} - 1148 x^{2} y^{6} - 2576 x y^{7} + 401 y^{8}$"
      ],
      "text/plain": [
       "<IPython.core.display.Math object>"
      ]
     },
     "metadata": {},
     "output_type": "display_data"
    },
    {
     "data": {
      "text/latex": [
       "$\\displaystyle t(f)(x,y)=- 4 x^{12} + 24 x^{11} y + 264 x^{10} y^{2} + 1320 x^{9} y^{3} - 1980 x^{8} y^{4} + 1584 x^{7} y^{5} + 3696 x^{6} y^{6} + 30096 x^{5} y^{7} + 124740 x^{4} y^{8} + 211640 x^{3} y^{9} - 84216 x^{2} y^{10} + 90696 x y^{11} + 106236 y^{12}$"
      ],
      "text/plain": [
       "<IPython.core.display.Math object>"
      ]
     },
     "metadata": {},
     "output_type": "display_data"
    },
    {
     "name": "stdout",
     "output_type": "stream",
     "text": [
      "(x1,x2)=( 5 6 ) yields (X,Y,Z)=( 347829446159638 -4642572239 8042795 )\n"
     ]
    },
    {
     "data": {
      "text/latex": [
       "$\\displaystyle -5(8042795)^4+(-4642572239)^3+(347829446159638)^2=0$"
      ],
      "text/plain": [
       "<IPython.core.display.Math object>"
      ]
     },
     "metadata": {},
     "output_type": "display_data"
    },
    {
     "name": "stdout",
     "output_type": "stream",
     "text": [
      "\n",
      "(x1,x2)=( 5 8 ) yields (X,Y,Z)=( 7004334964866878 -28799644319 47369015 )\n"
     ]
    },
    {
     "data": {
      "text/latex": [
       "$\\displaystyle -5(47369015)^4+(-28799644319)^3+(7004334964866878)^2=0$"
      ],
      "text/plain": [
       "<IPython.core.display.Math object>"
      ]
     },
     "metadata": {},
     "output_type": "display_data"
    },
    {
     "name": "stdout",
     "output_type": "stream",
     "text": [
      "\n",
      "(x1,x2)=( 6 5 ) yields (X,Y,Z)=( 98858633603238 -2135358079 1641719 )\n"
     ]
    },
    {
     "data": {
      "text/latex": [
       "$\\displaystyle -5(1641719)^4+(-2135358079)^3+(98858633603238)^2=0$"
      ],
      "text/plain": [
       "<IPython.core.display.Math object>"
      ]
     },
     "metadata": {},
     "output_type": "display_data"
    },
    {
     "name": "stdout",
     "output_type": "stream",
     "text": [
      "\n",
      "(x1,x2)=( 7 6 ) yields (X,Y,Z)=( 809165627852038 -8665141679 5360867 )\n"
     ]
    },
    {
     "data": {
      "text/latex": [
       "$\\displaystyle -5(5360867)^4+(-8665141679)^3+(809165627852038)^2=0$"
      ],
      "text/plain": [
       "<IPython.core.display.Math object>"
      ]
     },
     "metadata": {},
     "output_type": "display_data"
    },
    {
     "name": "stdout",
     "output_type": "stream",
     "text": [
      "\n",
      "(x1,x2)=( 8 5 ) yields (X,Y,Z)=( 265872928719998 -4134262799 -1496269 )\n"
     ]
    },
    {
     "data": {
      "text/latex": [
       "$\\displaystyle -5(-1496269)^4+(-4134262799)^3+(265872928719998)^2=0$"
      ],
      "text/plain": [
       "<IPython.core.display.Math object>"
      ]
     },
     "metadata": {},
     "output_type": "display_data"
    },
    {
     "name": "stdout",
     "output_type": "stream",
     "text": [
      "\n",
      "(x1,x2)=( 8 9 ) yields (X,Y,Z)=( 51659331555252958 -133085023919 88845227 )\n"
     ]
    },
    {
     "data": {
      "text/latex": [
       "$\\displaystyle -5(88845227)^4+(-133085023919)^3+(51659331555252958)^2=0$"
      ],
      "text/plain": [
       "<IPython.core.display.Math object>"
      ]
     },
     "metadata": {},
     "output_type": "display_data"
    },
    {
     "name": "stdout",
     "output_type": "stream",
     "text": [
      "\n",
      "------------------------------------------------------\n",
      "Parameters are  4 -5 (0, -5, 0, 0, 0, -12, 0)\n"
     ]
    },
    {
     "data": {
      "text/latex": [
       "$\\displaystyle f(x,y)=- 30 x^{5} y - 72 x y^{5}$"
      ],
      "text/plain": [
       "<IPython.core.display.Math object>"
      ]
     },
     "metadata": {},
     "output_type": "display_data"
    },
    {
     "data": {
      "text/latex": [
       "$\\displaystyle H(f)(x,y)=- 25 x^{8} + 840 x^{4} y^{4} - 144 y^{8}$"
      ],
      "text/plain": [
       "<IPython.core.display.Math object>"
      ]
     },
     "metadata": {},
     "output_type": "display_data"
    },
    {
     "data": {
      "text/latex": [
       "$\\displaystyle t(f)(x,y)=- 250 x^{12} - 19800 x^{8} y^{4} + 47520 x^{4} y^{8} + 3456 y^{12}$"
      ],
      "text/plain": [
       "<IPython.core.display.Math object>"
      ]
     },
     "metadata": {},
     "output_type": "display_data"
    },
    {
     "name": "stdout",
     "output_type": "stream",
     "text": [
      "(x1,x2)=( 5 6 ) yields (X,Y,Z)=( 23661384898483 428769671 -3361860 )\n"
     ]
    },
    {
     "data": {
      "text/latex": [
       "$\\displaystyle -5(-3361860)^4+(428769671)^3+(23661384898483)^2=0$"
      ],
      "text/plain": [
       "<IPython.core.display.Math object>"
      ]
     },
     "metadata": {},
     "output_type": "display_data"
    },
    {
     "name": "stdout",
     "output_type": "stream",
     "text": [
      "\n",
      "(x1,x2)=( 5 7 ) yields (X,Y,Z)=( 100209404367703 420628031 -6706770 )\n"
     ]
    },
    {
     "data": {
      "text/latex": [
       "$\\displaystyle -5(-6706770)^4+(420628031)^3+(100209404367703)^2=0$"
      ],
      "text/plain": [
       "<IPython.core.display.Math object>"
      ]
     },
     "metadata": {},
     "output_type": "display_data"
    },
    {
     "name": "stdout",
     "output_type": "stream",
     "text": [
      "\n",
      "(x1,x2)=( 5 8 ) yields (X,Y,Z)=( 352018395821683 -275284729 -12546480 )\n"
     ]
    },
    {
     "data": {
      "text/latex": [
       "$\\displaystyle -5(-12546480)^4+(-275284729)^3+(352018395821683)^2=0$"
      ],
      "text/plain": [
       "<IPython.core.display.Math object>"
      ]
     },
     "metadata": {},
     "output_type": "display_data"
    },
    {
     "name": "stdout",
     "output_type": "stream",
     "text": [
      "\n",
      "(x1,x2)=( 5 9 ) yields (X,Y,Z)=( 1101878911123543 -2763968449 -22101390 )\n"
     ]
    },
    {
     "data": {
      "text/latex": [
       "$\\displaystyle -5(-22101390)^4+(-2763968449)^3+(1101878911123543)^2=0$"
      ],
      "text/plain": [
       "<IPython.core.display.Math object>"
      ]
     },
     "metadata": {},
     "output_type": "display_data"
    },
    {
     "name": "stdout",
     "output_type": "stream",
     "text": [
      "\n",
      "(x1,x2)=( 7 6 ) yields (X,Y,Z)=( 23884946686243 2227839911 -6944364 )\n"
     ]
    },
    {
     "data": {
      "text/latex": [
       "$\\displaystyle -5(-6944364)^4+(2227839911)^3+(23884946686243)^2=0$"
      ],
      "text/plain": [
       "<IPython.core.display.Math object>"
      ]
     },
     "metadata": {},
     "output_type": "display_data"
    },
    {
     "name": "stdout",
     "output_type": "stream",
     "text": [
      "\n",
      "(x1,x2)=( 7 8 ) yields (X,Y,Z)=( 840354700265443 5700937511 -20548752 )\n"
     ]
    },
    {
     "data": {
      "text/latex": [
       "$\\displaystyle -5(-20548752)^4+(5700937511)^3+(840354700265443)^2=0$"
      ],
      "text/plain": [
       "<IPython.core.display.Math object>"
      ]
     },
     "metadata": {},
     "output_type": "display_data"
    },
    {
     "name": "stdout",
     "output_type": "stream",
     "text": [
      "\n",
      "(x1,x2)=( 7 9 ) yields (X,Y,Z)=( 2567580778860103 6889639391 -34298586 )\n"
     ]
    },
    {
     "data": {
      "text/latex": [
       "$\\displaystyle -5(-34298586)^4+(6889639391)^3+(2567580778860103)^2=0$"
      ],
      "text/plain": [
       "<IPython.core.display.Math object>"
      ]
     },
     "metadata": {},
     "output_type": "display_data"
    },
    {
     "name": "stdout",
     "output_type": "stream",
     "text": [
      "\n",
      "------------------------------------------------------\n",
      "Parameters are  4 -5 (0, -4, 0, 0, 0, -15, 0)\n"
     ]
    },
    {
     "data": {
      "text/latex": [
       "$\\displaystyle f(x,y)=- 24 x^{5} y - 90 x y^{5}$"
      ],
      "text/plain": [
       "<IPython.core.display.Math object>"
      ]
     },
     "metadata": {},
     "output_type": "display_data"
    },
    {
     "data": {
      "text/latex": [
       "$\\displaystyle H(f)(x,y)=- 16 x^{8} + 840 x^{4} y^{4} - 225 y^{8}$"
      ],
      "text/plain": [
       "<IPython.core.display.Math object>"
      ]
     },
     "metadata": {},
     "output_type": "display_data"
    },
    {
     "data": {
      "text/latex": [
       "$\\displaystyle t(f)(x,y)=- 128 x^{12} - 15840 x^{8} y^{4} + 59400 x^{4} y^{8} + 6750 y^{12}$"
      ],
      "text/plain": [
       "<IPython.core.display.Math object>"
      ]
     },
     "metadata": {},
     "output_type": "display_data"
    },
    {
     "name": "stdout",
     "output_type": "stream",
     "text": [
      "(x1,x2)=( 7 5 ) yields (X,Y,Z)=( -742281158989 1080397559 -3985590 )\n"
     ]
    },
    {
     "data": {
      "text/latex": [
       "$\\displaystyle -5(-3985590)^4+(1080397559)^3+(-742281158989)^2=0$"
      ],
      "text/plain": [
       "<IPython.core.display.Math object>"
      ]
     },
     "metadata": {},
     "output_type": "display_data"
    },
    {
     "name": "stdout",
     "output_type": "stream",
     "text": [
      "\n",
      "(x1,x2)=( 7 9 ) yields (X,Y,Z)=( 3722405557597091 3454738199 -40831182 )\n"
     ]
    },
    {
     "data": {
      "text/latex": [
       "$\\displaystyle -5(-40831182)^4+(3454738199)^3+(3722405557597091)^2=0$"
      ],
      "text/plain": [
       "<IPython.core.display.Math object>"
      ]
     },
     "metadata": {},
     "output_type": "display_data"
    },
    {
     "name": "stdout",
     "output_type": "stream",
     "text": [
      "\n",
      "(x1,x2)=( 8 5 ) yields (X,Y,Z)=( -39101291101729 1794073919 -6182160 )\n"
     ]
    },
    {
     "data": {
      "text/latex": [
       "$\\displaystyle -5(-6182160)^4+(1794073919)^3+(-39101291101729)^2=0$"
      ],
      "text/plain": [
       "<IPython.core.display.Math object>"
      ]
     },
     "metadata": {},
     "output_type": "display_data"
    },
    {
     "name": "stdout",
     "output_type": "stream",
     "text": [
      "\n",
      "(x1,x2)=( 8 7 ) yields (X,Y,Z)=( 424577059924751 6695460959 -17606064 )\n"
     ]
    },
    {
     "data": {
      "text/latex": [
       "$\\displaystyle -5(-17606064)^4+(6695460959)^3+(424577059924751)^2=0$"
      ],
      "text/plain": [
       "<IPython.core.display.Math object>"
      ]
     },
     "metadata": {},
     "output_type": "display_data"
    },
    {
     "name": "stdout",
     "output_type": "stream",
     "text": [
      "\n",
      "(x1,x2)=( 8 9 ) yields (X,Y,Z)=( 5313690416553551 12620091359 -49593168 )\n"
     ]
    },
    {
     "data": {
      "text/latex": [
       "$\\displaystyle -5(-49593168)^4+(12620091359)^3+(5313690416553551)^2=0$"
      ],
      "text/plain": [
       "<IPython.core.display.Math object>"
      ]
     },
     "metadata": {},
     "output_type": "display_data"
    },
    {
     "name": "stdout",
     "output_type": "stream",
     "text": [
      "\n",
      "------------------------------------------------------\n",
      "Parameters are  4 -5 (0, -3, 0, 0, 0, -20, 0)\n"
     ]
    },
    {
     "data": {
      "text/latex": [
       "$\\displaystyle f(x,y)=- 18 x^{5} y - 120 x y^{5}$"
      ],
      "text/plain": [
       "<IPython.core.display.Math object>"
      ]
     },
     "metadata": {},
     "output_type": "display_data"
    },
    {
     "data": {
      "text/latex": [
       "$\\displaystyle H(f)(x,y)=- 9 x^{8} + 840 x^{4} y^{4} - 400 y^{8}$"
      ],
      "text/plain": [
       "<IPython.core.display.Math object>"
      ]
     },
     "metadata": {},
     "output_type": "display_data"
    },
    {
     "data": {
      "text/latex": [
       "$\\displaystyle t(f)(x,y)=- 54 x^{12} - 11880 x^{8} y^{4} + 79200 x^{4} y^{8} + 16000 y^{12}$"
      ],
      "text/plain": [
       "<IPython.core.display.Math object>"
      ]
     },
     "metadata": {},
     "output_type": "display_data"
    },
    {
     "name": "stdout",
     "output_type": "stream",
     "text": [
      "(x1,x2)=( 7 5 ) yields (X,Y,Z)=( 17318055283073 1052391791 -4137630 )\n"
     ]
    },
    {
     "data": {
      "text/latex": [
       "$\\displaystyle -5(-4137630)^4+(1052391791)^3+(17318055283073)^2=0$"
      ],
      "text/plain": [
       "<IPython.core.display.Math object>"
      ]
     },
     "metadata": {},
     "output_type": "display_data"
    },
    {
     "name": "stdout",
     "output_type": "stream",
     "text": [
      "\n",
      "(x1,x2)=( 7 8 ) yields (X,Y,Z)=( 2004294093644933 1498207031 -29945328 )\n"
     ]
    },
    {
     "data": {
      "text/latex": [
       "$\\displaystyle -5(-29945328)^4+(1498207031)^3+(2004294093644933)^2=0$"
      ],
      "text/plain": [
       "<IPython.core.display.Math object>"
      ]
     },
     "metadata": {},
     "output_type": "display_data"
    },
    {
     "name": "stdout",
     "output_type": "stream",
     "text": [
      "\n",
      "(x1,x2)=( 9 5 ) yields (X,Y,Z)=( -63992955447487 2900854511 -8689410 )\n"
     ]
    },
    {
     "data": {
      "text/latex": [
       "$\\displaystyle -5(-8689410)^4+(2900854511)^3+(-63992955447487)^2=0$"
      ],
      "text/plain": [
       "<IPython.core.display.Math object>"
      ]
     },
     "metadata": {},
     "output_type": "display_data"
    },
    {
     "name": "stdout",
     "output_type": "stream",
     "text": [
      "\n",
      "(x1,x2)=( 9 7 ) yields (X,Y,Z)=( 986960178719873 10539146351 -25591734 )\n"
     ]
    },
    {
     "data": {
      "text/latex": [
       "$\\displaystyle -5(-25591734)^4+(10539146351)^3+(986960178719873)^2=0$"
      ],
      "text/plain": [
       "<IPython.core.display.Math object>"
      ]
     },
     "metadata": {},
     "output_type": "display_data"
    },
    {
     "name": "stdout",
     "output_type": "stream",
     "text": [
      "\n",
      "(x1,x2)=( 9 8 ) yields (X,Y,Z)=( 3853775604629573 15475732151 -43892496 )\n"
     ]
    },
    {
     "data": {
      "text/latex": [
       "$\\displaystyle -5(-43892496)^4+(15475732151)^3+(3853775604629573)^2=0$"
      ],
      "text/plain": [
       "<IPython.core.display.Math object>"
      ]
     },
     "metadata": {},
     "output_type": "display_data"
    },
    {
     "name": "stdout",
     "output_type": "stream",
     "text": [
      "\n",
      "------------------------------------------------------\n",
      "Parameters are  4 -5 (0, -1, 0, 0, 0, -60, 0)\n"
     ]
    },
    {
     "data": {
      "text/latex": [
       "$\\displaystyle f(x,y)=- 6 x^{5} y - 360 x y^{5}$"
      ],
      "text/plain": [
       "<IPython.core.display.Math object>"
      ]
     },
     "metadata": {},
     "output_type": "display_data"
    },
    {
     "data": {
      "text/latex": [
       "$\\displaystyle H(f)(x,y)=- x^{8} + 840 x^{4} y^{4} - 3600 y^{8}$"
      ],
      "text/plain": [
       "<IPython.core.display.Math object>"
      ]
     },
     "metadata": {},
     "output_type": "display_data"
    },
    {
     "data": {
      "text/latex": [
       "$\\displaystyle t(f)(x,y)=- 2 x^{12} - 3960 x^{8} y^{4} + 237600 x^{4} y^{8} + 432000 y^{12}$"
      ],
      "text/plain": [
       "<IPython.core.display.Math object>"
      ]
     },
     "metadata": {},
     "output_type": "display_data"
    },
    {
     "name": "stdout",
     "output_type": "stream",
     "text": [
      "(x1,x2)=( 7 5 ) yields (X,Y,Z)=( 157007998725299 -151489801 -8379210 )\n"
     ]
    },
    {
     "data": {
      "text/latex": [
       "$\\displaystyle -5(-8379210)^4+(-151489801)^3+(157007998725299)^2=0$"
      ],
      "text/plain": [
       "<IPython.core.display.Math object>"
      ]
     },
     "metadata": {},
     "output_type": "display_data"
    },
    {
     "name": "stdout",
     "output_type": "stream",
     "text": [
      "\n",
      "(x1,x2)=( 7 6 ) yields (X,Y,Z)=( 934469855039519 -3438557761 -20200572 )\n"
     ]
    },
    {
     "data": {
      "text/latex": [
       "$\\displaystyle -5(-20200572)^4+(-3438557761)^3+(934469855039519)^2=0$"
      ],
      "text/plain": [
       "<IPython.core.display.Math object>"
      ]
     },
     "metadata": {},
     "output_type": "display_data"
    },
    {
     "name": "stdout",
     "output_type": "stream",
     "text": [
      "\n",
      "(x1,x2)=( 7 8 ) yields (X,Y,Z)=( 19582153095575519 -52142765761 -83382096 )\n"
     ]
    },
    {
     "data": {
      "text/latex": [
       "$\\displaystyle -5(-83382096)^4+(-52142765761)^3+(19582153095575519)^2=0$"
      ],
      "text/plain": [
       "<IPython.core.display.Math object>"
      ]
     },
     "metadata": {},
     "output_type": "display_data"
    },
    {
     "name": "stdout",
     "output_type": "stream",
     "text": [
      "\n",
      "(x1,x2)=( 7 9 ) yields (X,Y,Z)=( 73208471819048819 -141741473161 -149711058 )\n"
     ]
    },
    {
     "data": {
      "text/latex": [
       "$\\displaystyle -5(-149711058)^4+(-141741473161)^3+(73208471819048819)^2=0$"
      ],
      "text/plain": [
       "<IPython.core.display.Math object>"
      ]
     },
     "metadata": {},
     "output_type": "display_data"
    },
    {
     "name": "stdout",
     "output_type": "stream",
     "text": [
      "\n"
     ]
    }
   ],
   "source": [
    "def demo(r_num, d_num, form):\n",
    "\n",
    "    print('------------------------------------------------------')\n",
    "    print('Parameters are ', r_num, d_num, form)\n",
    "    \n",
    "    x, y = sympy.symbols(\"x,y\")\n",
    "    k = len(form) - 1\n",
    "    f_v = sum(comb(k, i) * form[i] * x ** (k - i) * y ** (i) for i in range(k + 1))\n",
    "    H_v = H(f_v, k)\n",
    "    t_v = t(f_v, H_v, k)\n",
    "\n",
    "    display(Math('f(x,y)='+str(sympy.latex(sympy.expand(f_v)))))\n",
    "    display(Math('H(f)(x,y)='+str(sympy.latex(sympy.expand(H_v)))))\n",
    "    display(Math('t(f)(x,y)='+str(sympy.latex(sympy.expand(t_v)))))\n",
    "\n",
    "    for s1, s2 in list(itertools.product(list(range(5,10)), list(range(5,10)))):\n",
    "    \n",
    "        t_number = t_v.subs({x: s1, y: s2})\n",
    "        H_number = H_v.subs({x: s1, y: s2})\n",
    "        f_number = f_v.subs({x: s1, y: s2})\n",
    "    \n",
    "        X, Y, Z = t_number / 2, H_number, f_number\n",
    "    \n",
    "        if gcd(gcd(X, Y), Z) == 1:\n",
    "            print(\"(x1,x2)=(\",s1, s2,\") yields (X,Y,Z)=(\", X, Y, Z,\")\")\n",
    "            #print(\"dZ^3+Y^3+X^2=\",d_num * Z ^ r_num + Y ^ 3 + X ^ 2)\n",
    "            answer = d_num * Z ^ r_num + Y ^ 3 + X ^ 2\n",
    "            #display(Math(str(d_num)+'Z^3+Y^3+X^2='+str(answer)))\n",
    "            display(Math(str(d_num)+'('+str(Z)+')^'+str(r_num)+'+('+str(Y)+')^3+('+str(X)+')^2='+str(answer)))\n",
    "            print()\n",
    "\n",
    "\n",
    "for r_num,d_num,form in demo_param:\n",
    "    demo(r_num,d_num,form)"
   ]
  },
  {
   "cell_type": "code",
   "execution_count": null,
   "id": "6a7a282a",
   "metadata": {},
   "outputs": [],
   "source": []
  },
  {
   "cell_type": "code",
   "execution_count": null,
   "id": "5979a5e1",
   "metadata": {
    "scrolled": true
   },
   "outputs": [],
   "source": []
  },
  {
   "cell_type": "code",
   "execution_count": null,
   "id": "4416f582",
   "metadata": {},
   "outputs": [],
   "source": []
  },
  {
   "cell_type": "code",
   "execution_count": null,
   "id": "a31a61c6",
   "metadata": {},
   "outputs": [],
   "source": []
  },
  {
   "cell_type": "code",
   "execution_count": null,
   "id": "858da944",
   "metadata": {},
   "outputs": [],
   "source": []
  },
  {
   "cell_type": "code",
   "execution_count": null,
   "id": "d1564aa1",
   "metadata": {},
   "outputs": [],
   "source": []
  },
  {
   "cell_type": "code",
   "execution_count": null,
   "id": "f9f9c7dd",
   "metadata": {},
   "outputs": [],
   "source": []
  },
  {
   "cell_type": "code",
   "execution_count": null,
   "id": "38762bcb",
   "metadata": {},
   "outputs": [],
   "source": []
  },
  {
   "cell_type": "code",
   "execution_count": null,
   "id": "b2a30421",
   "metadata": {},
   "outputs": [],
   "source": []
  },
  {
   "cell_type": "code",
   "execution_count": null,
   "id": "29a06edf",
   "metadata": {},
   "outputs": [],
   "source": []
  }
 ],
 "metadata": {
  "kernelspec": {
   "display_name": "SageMath 10.2",
   "language": "sage",
   "name": "sagemath"
  },
  "language_info": {
   "codemirror_mode": {
    "name": "ipython",
    "version": 3
   },
   "file_extension": ".py",
   "mimetype": "text/x-python",
   "name": "python",
   "nbconvert_exporter": "python",
   "pygments_lexer": "ipython3",
   "version": "3.11.1"
  }
 },
 "nbformat": 4,
 "nbformat_minor": 5
}
